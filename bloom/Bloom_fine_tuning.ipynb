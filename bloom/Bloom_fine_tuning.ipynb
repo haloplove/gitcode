{
 "cells": [
  {
   "cell_type": "markdown",
   "metadata": {},
   "source": [
    "# Bloom 微调\n"
   ]
  },
  {
   "cell_type": "code",
   "execution_count": null,
   "metadata": {},
   "outputs": [],
   "source": [
    "##!pip install torch transformers==4.42.4 peft==0.11.1 datasets==2.20.0 accelerate==0.32.1 bitsandbytes==0.43.1 faiss-cpu==1.7.4 tensorboard==2.14.0"
   ]
  },
  {
   "cell_type": "code",
   "execution_count": null,
   "metadata": {},
   "outputs": [],
   "source": [
    "# 导入数据集\n",
    "from datasets import Dataset\n",
    "import json\n",
    "\n",
    "\n",
    "# 自定义函数来解析 JSON Lines 数据\n",
    "def parse_jsonl(file_path):\n",
    "    data = []\n",
    "    with open(file_path, \"r\", encoding=\"utf-8\") as f:\n",
    "        for line in f:\n",
    "            json_obj = json.loads(line)\n",
    "            data.append(\n",
    "                {\n",
    "                    \"input_text\": json_obj[\"input_text\"],\n",
    "                    \"target_text\": json_obj[\"target_text\"],\n",
    "                }\n",
    "            )\n",
    "    return data\n",
    "\n",
    "\n",
    "# 解析并加载数据集\n",
    "# train_data = parse_jsonl(\"train_output.jsonl\")\n",
    "# test_data = parse_jsonl(\"test_output.jsonl\")\n",
    "\n",
    "# 解析并加载数据集\n",
    "train_data = parse_jsonl(\"train_output.jsonl\")\n",
    "test_data = parse_jsonl(\"test_output.jsonl\")\n",
    "\n",
    "# 得到微调数据集\n",
    "train_dataset = Dataset.from_list(train_data)\n",
    "test_dataset = Dataset.from_list(test_data)\n",
    "\n",
    "\n",
    "# 打印训练集和测试集的基本信息\n",
    "print(\"训练集信息:\")\n",
    "print(train_dataset)\n",
    "print(\"测试集信息:\")\n",
    "print(test_dataset)\n",
    "\n",
    "# 查看训练集前五个样本\n",
    "print(\"训练集前五个样本:\")\n",
    "for i in range(5):\n",
    "    print(train_dataset[i])\n",
    "\n",
    "# 查看测试集前五个样本\n",
    "print(\"测试集前五个样本:\")\n",
    "for i in range(5):\n",
    "    print(test_dataset[i])"
   ]
  },
  {
   "cell_type": "code",
   "execution_count": null,
   "metadata": {},
   "outputs": [],
   "source": [
    "# 加载预训练模型和分词器\n",
    "from transformers import (\n",
    "    AutoTokenizer,\n",
    "    AutoModelForCausalLM,\n",
    "    TrainingArguments,\n",
    "    Trainer,\n",
    "    DataCollatorForSeq2Seq,\n",
    ")\n",
    "\n",
    "\n",
    "model = AutoModelForCausalLM.from_pretrained(\n",
    "    \"bloom-1b4-zh\",\n",
    "    trust_remote_code=True,\n",
    ")\n",
    "\n",
    "\n",
    "tokenizer = AutoTokenizer.from_pretrained(\"bloom-1b4-zh\", trust_remote_code=True)\n",
    "print(model)\n",
    "\n",
    "\n",
    "print(tokenizer)\n",
    "\n",
    "\n",
    "# sum(param.numel() for param in model.parameters())"
   ]
  },
  {
   "cell_type": "code",
   "execution_count": null,
   "metadata": {},
   "outputs": [],
   "source": [
    "num_param = 0\n",
    "for name, param in model.named_parameters():\n",
    "    if \"bias\" not in name:\n",
    "        param.requires_grad = False\n",
    "    else:\n",
    "        num_param += param.numel()\n",
    "print(num_param)\n",
    "print(num_param / sum(param.numel() for param in model.parameters()))"
   ]
  },
  {
   "cell_type": "code",
   "execution_count": null,
   "metadata": {},
   "outputs": [],
   "source": [
    "# 定义格式化函数\n",
    "def tokenize_function(examples):\n",
    "    inputs = tokenizer(\n",
    "        examples[\"input_text\"],\n",
    "        padding=\"max_length\",\n",
    "        truncation=True,\n",
    "        max_length=512,\n",
    "    )\n",
    "    targets = tokenizer(\n",
    "        examples[\"target_text\"],\n",
    "        padding=\"max_length\",\n",
    "        truncation=True,\n",
    "        max_length=512,\n",
    "    )\n",
    "    inputs[\"labels\"] = targets[\"input_ids\"]\n",
    "    return inputs\n",
    "\n",
    "\n",
    "# 设置较小的批处理大小\n",
    "batch_size = 2\n",
    "\n",
    "# 应用tokenizer到数据集\n",
    "train_dataset = train_dataset.map(\n",
    "    tokenize_function,\n",
    "    batched=True,\n",
    "    batch_size=batch_size,\n",
    ")\n",
    "test_dataset = test_dataset.map(\n",
    "    tokenize_function,\n",
    "    batched=True,\n",
    "    batch_size=batch_size,\n",
    ")"
   ]
  },
  {
   "cell_type": "code",
   "execution_count": 4,
   "metadata": {},
   "outputs": [],
   "source": [
    "# 配置微调模型\n",
    "from peft import LoraConfig, TaskType, get_peft_model\n",
    "\n",
    "\n",
    "# 选择微调配置\n",
    "peft_config = LoraConfig(\n",
    "    task_type=TaskType.CAUSAL_LM,\n",
    "    r=32,\n",
    "    lora_alpha=16,\n",
    "    target_modules=[\n",
    "        \"transformer.word_embeddings\",\n",
    "        \"transformer.h.0.self_attention.query_key_value\",\n",
    "        \"transformer.h.0.self_attention.dense\",\n",
    "        \"transformer.h.0.mlp.dense_h_to_4h\",\n",
    "        \"transformer.h.0.mlp.dense_4h_to_h\",\n",
    "        \"lm_head\",\n",
    "        # 根据实际的模块名称更新\n",
    "    ],\n",
    "    lora_dropout=0.05,\n",
    "    bias=\"none\",\n",
    ")\n",
    "\n",
    "\n",
    "model = get_peft_model(model, peft_config)"
   ]
  },
  {
   "cell_type": "code",
   "execution_count": null,
   "metadata": {},
   "outputs": [],
   "source": [
    "model"
   ]
  },
  {
   "cell_type": "code",
   "execution_count": null,
   "metadata": {},
   "outputs": [],
   "source": [
    "model.print_trainable_parameters()"
   ]
  },
  {
   "cell_type": "markdown",
   "metadata": {},
   "source": [
    "# 配置训练参数\n"
   ]
  },
  {
   "cell_type": "code",
   "execution_count": 5,
   "metadata": {},
   "outputs": [],
   "source": [
    "args = TrainingArguments(\n",
    "    output_dir=\"./BloomFineTune\",\n",
    "    weight_decay=0.01,  # 权重衰减\n",
    "    logging_dir=\"./logs\",  # 日志目录\n",
    "    logging_steps=10,  # 日志记录频率\n",
    "    learning_rate=5e-5,  # 学习率\n",
    "    per_device_train_batch_size=1,\n",
    "    gradient_accumulation_steps=8,\n",
    "    num_train_epochs=1,\n",
    "    fp16=True,  # 使用半精度浮点数\n",
    ")"
   ]
  },
  {
   "cell_type": "markdown",
   "metadata": {},
   "source": [
    "# 创建训练器\n"
   ]
  },
  {
   "cell_type": "code",
   "execution_count": null,
   "metadata": {},
   "outputs": [],
   "source": [
    "trainer = Trainer(\n",
    "    model=model,\n",
    "    args=args,\n",
    "    tokenizer=tokenizer,\n",
    "    train_dataset=train_dataset,\n",
    "    eval_dataset=test_dataset,\n",
    "    data_collator=DataCollatorForSeq2Seq(tokenizer=tokenizer, padding=True),\n",
    ")"
   ]
  },
  {
   "cell_type": "markdown",
   "metadata": {},
   "source": [
    "# 模型训练\n"
   ]
  },
  {
   "cell_type": "code",
   "execution_count": null,
   "metadata": {},
   "outputs": [],
   "source": [
    "trainer.train()"
   ]
  }
 ],
 "metadata": {
  "kernelspec": {
   "display_name": "fine_tune",
   "language": "python",
   "name": "python3"
  },
  "language_info": {
   "codemirror_mode": {
    "name": "ipython",
    "version": 3
   },
   "file_extension": ".py",
   "mimetype": "text/x-python",
   "name": "python",
   "nbconvert_exporter": "python",
   "pygments_lexer": "ipython3",
   "version": "3.9.20"
  }
 },
 "nbformat": 4,
 "nbformat_minor": 2
}
