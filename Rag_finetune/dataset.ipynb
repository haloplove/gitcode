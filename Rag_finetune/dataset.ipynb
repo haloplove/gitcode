{
 "cells": [
  {
   "cell_type": "markdown",
   "metadata": {},
   "source": [
    "# 加载&下载数据\n"
   ]
  },
  {
   "cell_type": "code",
   "execution_count": null,
   "metadata": {},
   "outputs": [],
   "source": [
    "import datasets\n",
    "\n",
    "encyclopedia_dataset = datasets.load_dataset(\n",
    "    \"FreedomIntelligence/huatuo_encyclopedia_qa\",\n",
    "    cache_dir=\"C:/Users/Admin/Desktop/Data\",\n",
    ")\n",
    "# # part 1\n",
    "# knowledge_graph_dataset = datasets.load_dataset('FreedomIntelligence/huatuo_knowledge_graph_qa')\n",
    "# # part 2\n",
    "# encyclopedia_dataset = datasets.load_dataset('FreedomIntelligence/huatuo_encyclopedia_qa')\n",
    "# # part 3 (only url)\n",
    "# consultation_dataset = datasets.load_dataset('FreedomIntelligence/huatuo_consultation_qa')\n",
    "# # Huatuo-Lite\n",
    "# lite = load_dataset(\"FreedomIntelligence/Huatuo26M-Lite\")\n",
    "\n",
    "# # testdatasets (6k)\n",
    "# huatuo_testdatasets = datasets.load_dataset('FreedomIntelligence/huatuo26M-testdatasets')"
   ]
  }
 ],
 "metadata": {
  "kernelspec": {
   "display_name": "fine_tune",
   "language": "python",
   "name": "python3"
  },
  "language_info": {
   "codemirror_mode": {
    "name": "ipython",
    "version": 3
   },
   "file_extension": ".py",
   "mimetype": "text/x-python",
   "name": "python",
   "nbconvert_exporter": "python",
   "pygments_lexer": "ipython3",
   "version": "3.9.20"
  }
 },
 "nbformat": 4,
 "nbformat_minor": 2
}
