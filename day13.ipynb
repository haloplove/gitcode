{
 "cells": [
  {
   "cell_type": "code",
   "execution_count": 1,
   "metadata": {},
   "outputs": [],
   "source": [
    "#泰坦尼克号练习\n",
    "import torch\n",
    "import numpy as np\n",
    "import pandas as pd"
   ]
  },
  {
   "cell_type": "code",
   "execution_count": 2,
   "metadata": {},
   "outputs": [
    {
     "name": "stdout",
     "output_type": "stream",
     "text": [
      "[[ 3. 22.  1.  0.]\n",
      " [ 1. 38.  1.  0.]\n",
      " [ 3. 26.  0.  0.]\n",
      " ...\n",
      " [ 3. nan  1.  2.]\n",
      " [ 1. 26.  0.  0.]\n",
      " [ 3. 32.  0.  0.]]\n"
     ]
    }
   ],
   "source": [
    "#加载数据\n",
    "file_path='Titanic_dataset/train.csv'\n",
    "\n",
    "# 使用 pandas 读取数据\n",
    "df = pd.read_csv(file_path)\n",
    "#xy=np.genfromtxt(file_path,delimiter=',',skip_header=1,dtype=np.float32,encoding='utf-8')\n",
    "selected_columns=df[['Pclass','Age', 'SibSp', 'Parch']].to_numpy()\n",
    "x_data = torch.from_numpy(selected_columns)\n",
    "print(selected_columns)\n",
    "# print(x_data)"
   ]
  }
 ],
 "metadata": {
  "kernelspec": {
   "display_name": "base",
   "language": "python",
   "name": "python3"
  },
  "language_info": {
   "codemirror_mode": {
    "name": "ipython",
    "version": 3
   },
   "file_extension": ".py",
   "mimetype": "text/x-python",
   "name": "python",
   "nbconvert_exporter": "python",
   "pygments_lexer": "ipython3",
   "version": "3.11.7"
  }
 },
 "nbformat": 4,
 "nbformat_minor": 2
}
