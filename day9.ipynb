{
 "cells": [
  {
   "cell_type": "code",
   "execution_count": 7,
   "metadata": {},
   "outputs": [],
   "source": [
    "#梯度下降练习\n",
    "import matplotlib.pyplot as plt"
   ]
  },
  {
   "cell_type": "code",
   "execution_count": 8,
   "metadata": {},
   "outputs": [],
   "source": [
    "#数据集\n",
    "x_data=[1.0,2.0,3.0]\n",
    "y_data=[2.0,4.0,6.0]\n",
    "\n",
    "#初始化参数\n",
    "w=0"
   ]
  },
  {
   "cell_type": "code",
   "execution_count": 9,
   "metadata": {},
   "outputs": [],
   "source": [
    "#定义模型\n",
    "def forward(x):\n",
    "    return x*w\n",
    "\n",
    "#定义损失函数\n",
    "def loss(xs,ys):\n",
    "    l_sum=0\n",
    "    for x ,y in zip(xs,ys):\n",
    "        y_pred=forward(x)\n",
    "        l_sum+=(y_pred-y)**2\n",
    "    return l_sum/len(xs)#返回mse\n"
   ]
  },
  {
   "cell_type": "code",
   "execution_count": 10,
   "metadata": {},
   "outputs": [],
   "source": [
    "# # 定义传统梯度\n",
    "# def gradient(xs,ys):\n",
    "#     grad=0\n",
    "#     for x,y in zip(xs,ys):\n",
    "#         grad+=2*x*(x*w-y)\n",
    "#     return grad/len(xs)\n",
    "\n",
    "# # 训练传统梯度下降模型\n",
    "# print(\"predict (before training)\",4,forward(4))\n",
    "\n",
    "# epo=[]\n",
    "# los=[]\n",
    "# for epoch in range(100):#迭代100次\n",
    "#     l=loss(x_data,y_data)\n",
    "#     g=gradient(x_data,y_data)\n",
    "#     w-=0.01*g#学习率0.01*梯度\n",
    "#     print(\"epoch:\",epoch,\"w:\",w,\"loss:\",l)\n",
    "#     epo.append(epoch)\n",
    "#     los.append(l)\n",
    "# print(\"predict (after training)\",4,forward(4))\n"
   ]
  },
  {
   "cell_type": "code",
   "execution_count": 11,
   "metadata": {},
   "outputs": [
    {
     "name": "stdout",
     "output_type": "stream",
     "text": [
      "predict (before training) 4 0\n",
      "epoch: 0 w: 0.521376 loss: 10.202868355754665\n",
      "epoch: 1 w: 0.906835533312 loss: 5.576706572403211\n",
      "epoch: 2 w: 1.1918103918039613 loss: 3.0481287330483102\n",
      "epoch: 3 w: 1.4024957243853704 loss: 1.6660530104295619\n",
      "epoch: 4 w: 1.5582579189867969 loss: 0.910634975310085\n",
      "epoch: 5 w: 1.6734147786019669 loss: 0.49773689856614434\n",
      "epoch: 6 w: 1.7585516267977774 loss: 0.2720541456359986\n",
      "epoch: 7 w: 1.8214943203111185 loss: 0.14869996251221804\n",
      "epoch: 8 w: 1.8680286089378537 loss: 0.08127675760809706\n",
      "epoch: 9 w: 1.9024319669310625 loss: 0.044424431692392574\n",
      "epoch: 10 w: 1.9278667823357378 loss: 0.024281605089465783\n",
      "epoch: 11 w: 1.9466710465821988 loss: 0.01327189393897738\n",
      "epoch: 12 w: 1.9605732647907785 loss: 0.00725418142987098\n",
      "epoch: 13 w: 1.970851341539 loss: 0.003965006687021444\n",
      "epoch: 14 w: 1.9784500470158812 loss: 0.0021672022102160802\n",
      "epoch: 15 w: 1.9840678611594054 loss: 0.0011845542241679331\n",
      "epoch: 16 w: 1.988221178569482 loss: 0.0006474562933627956\n",
      "epoch: 17 w: 1.991291775970561 loss: 0.0003538881068188561\n",
      "epoch: 18 w: 1.9935619054763476 loss: 0.00019342895177892387\n",
      "epoch: 19 w: 1.9952402394615294 loss: 0.00010572482845671796\n",
      "epoch: 20 w: 1.9964810519167822 loss: 5.778731285778515e-05\n",
      "epoch: 21 w: 1.9973983994547 loss: 3.1585518520758086e-05\n",
      "epoch: 22 w: 1.998076605497653 loss: 1.7264083254405465e-05\n",
      "epoch: 23 w: 1.9985780113636809 loss: 9.436241181830369e-06\n",
      "epoch: 24 w: 1.9989487067373055 loss: 5.157681779538481e-06\n",
      "epoch: 25 w: 1.9992227662753708 loss: 2.8190972259381477e-06\n",
      "epoch: 26 w: 1.9994253817805767 loss: 1.5408684577679433e-06\n",
      "epoch: 27 w: 1.9995751778549617 loss: 8.422113229363905e-07\n",
      "epoch: 28 w: 1.9996859238903075 loss: 4.603377458380807e-07\n",
      "epoch: 29 w: 1.999767799763191 loss: 2.5161243321255646e-07\n",
      "epoch: 30 w: 1.9998283315785244 loss: 1.3752688568246285e-07\n",
      "epoch: 31 w: 1.9998730834759821 loss: 7.516975232106942e-08\n",
      "epoch: 32 w: 1.9999061690907953 loss: 4.108645110356938e-08\n",
      "epoch: 33 w: 1.999930629682854 loss: 2.245712420435876e-08\n",
      "epoch: 34 w: 1.9999487136920902 loss: 1.2274665102110778e-08\n",
      "epoch: 35 w: 1.9999620834171266 loss: 6.709113865060432e-09\n",
      "epoch: 36 w: 1.9999719678152825 loss: 3.6670824401615714e-09\n",
      "epoch: 37 w: 1.999979275469452 loss: 2.0043621100219004e-09\n",
      "epoch: 38 w: 1.9999846781058714 loss: 1.0955487185386286e-09\n",
      "epoch: 39 w: 1.999988672339808 loss: 5.988074653263617e-10\n",
      "epoch: 40 w: 1.9999916253248882 loss: 3.272975217379083e-10\n",
      "epoch: 41 w: 1.9999938085021935 loss: 1.7889501040186882e-10\n",
      "epoch: 42 w: 1.9999954225513736 loss: 9.778083432600305e-11\n",
      "epoch: 43 w: 1.9999966158373013 loss: 5.344526680199154e-11\n",
      "epoch: 44 w: 1.9999974980479067 loss: 2.921223329190151e-11\n",
      "epoch: 45 w: 1.9999981502767938 loss: 1.596688771558617e-11\n",
      "epoch: 46 w: 1.999998632477437 loss: 8.727217148321561e-12\n",
      "epoch: 47 w: 1.999998988974159 loss: 4.770141839682152e-12\n",
      "epoch: 48 w: 1.9999992525364634 loss: 2.6072747803634593e-12\n",
      "epoch: 49 w: 1.999999447391238 loss: 1.4250900714336758e-12\n",
      "epoch: 50 w: 1.9999995914497108 loss: 7.789289146160119e-13\n",
      "epoch: 51 w: 1.9999996979538686 loss: 4.257487058830151e-13\n",
      "epoch: 52 w: 1.9999997766936706 loss: 2.3270667802650656e-13\n",
      "epoch: 53 w: 1.999999834906951 loss: 1.2719333602559347e-13\n",
      "epoch: 54 w: 1.9999998779447279 loss: 6.95216173259284e-14\n",
      "epoch: 55 w: 1.9999999097630727 loss: 3.799928086266657e-14\n",
      "epoch: 56 w: 1.9999999332867568 loss: 2.0769731818293328e-14\n",
      "epoch: 57 w: 1.9999999506780988 loss: 1.1352366390997444e-14\n",
      "epoch: 58 w: 1.9999999635357266 loss: 6.205001754121597e-15\n",
      "epoch: 59 w: 1.9999999730415252 loss: 3.391543704940352e-15\n",
      "epoch: 60 w: 1.9999999800692763 loss: 1.8537574940420634e-15\n",
      "epoch: 61 w: 1.9999999852649768 loss: 1.0132309140509003e-15\n",
      "epoch: 62 w: 1.9999999891062206 loss: 5.538140131774096e-16\n",
      "epoch: 63 w: 1.9999999919460982 loss: 3.027048941026674e-16\n",
      "epoch: 64 w: 1.9999999940456537 loss: 1.654531220886818e-16\n",
      "epoch: 65 w: 1.9999999955978804 loss: 9.043373080408358e-17\n",
      "epoch: 66 w: 1.9999999967454603 loss: 4.942946855737173e-17\n",
      "epoch: 67 w: 1.9999999975938798 loss: 2.7017269235533525e-17\n",
      "epoch: 68 w: 1.9999999982211265 loss: 1.476715597171133e-17\n",
      "epoch: 69 w: 1.9999999986848576 loss: 8.071464383486895e-18\n",
      "epoch: 70 w: 1.9999999990276993 loss: 4.41172066267239e-18\n",
      "epoch: 71 w: 1.9999999992811663 loss: 2.411368219327097e-18\n",
      "epoch: 72 w: 1.9999999994685576 loss: 1.3180116739611512e-18\n",
      "epoch: 73 w: 1.9999999996070983 loss: 7.204015216397824e-19\n",
      "epoch: 74 w: 1.999999999709523 loss: 3.9375874287609904e-19\n",
      "epoch: 75 w: 1.999999999785247 loss: 2.1522170427926282e-19\n",
      "epoch: 76 w: 1.9999999998412306 loss: 1.1763624106587568e-19\n",
      "epoch: 77 w: 1.99999999988262 loss: 6.429780172241166e-20\n",
      "epoch: 78 w: 1.9999999999132196 loss: 3.5143877994966277e-20\n",
      "epoch: 79 w: 1.9999999999358422 loss: 1.9209064689081855e-20\n",
      "epoch: 80 w: 1.9999999999525675 loss: 1.0499285042772239e-20\n",
      "epoch: 81 w: 1.9999999999649327 loss: 5.738682286318562e-21\n",
      "epoch: 82 w: 1.9999999999740745 loss: 3.1365869988419038e-21\n",
      "epoch: 83 w: 1.9999999999808329 loss: 1.714440091020518e-21\n",
      "epoch: 84 w: 1.9999999999858296 loss: 9.370859884704267e-22\n",
      "epoch: 85 w: 1.9999999999895235 loss: 5.121911082068694e-22\n",
      "epoch: 86 w: 1.9999999999922546 loss: 2.7996301321997103e-22\n",
      "epoch: 87 w: 1.999999999994274 loss: 1.5301096529680844e-22\n",
      "epoch: 88 w: 1.9999999999957667 loss: 8.363164009999769e-23\n",
      "epoch: 89 w: 1.9999999999968703 loss: 4.5709259654882665e-23\n",
      "epoch: 90 w: 1.999999999997686 loss: 2.4987561976302542e-23\n",
      "epoch: 91 w: 1.9999999999982891 loss: 1.3660187936945988e-23\n",
      "epoch: 92 w: 1.999999999998735 loss: 7.468138120337643e-24\n",
      "epoch: 93 w: 1.9999999999990647 loss: 4.081915000133623e-24\n",
      "epoch: 94 w: 1.9999999999993086 loss: 2.2317419980111115e-24\n",
      "epoch: 95 w: 1.9999999999994886 loss: 1.2200967973521553e-24\n",
      "epoch: 96 w: 1.999999999999622 loss: 6.661739045821929e-25\n",
      "epoch: 97 w: 1.9999999999997204 loss: 3.645783289313258e-25\n",
      "epoch: 98 w: 1.9999999999997933 loss: 1.9933642397558568e-25\n",
      "epoch: 99 w: 1.9999999999998472 loss: 1.0890908476027259e-25\n",
      "predict (after training) 4 7.999999999999389\n"
     ]
    }
   ],
   "source": [
    "#定义随机梯度\n",
    "def gradient(x,y):\n",
    "    return 2*x*(x*w-y)\n",
    "\n",
    "#训练随机梯度下降模型\n",
    "print(\"predict (before training)\",4,forward(4))\n",
    "epo=[]\n",
    "los=[]\n",
    "for epoch in range(100):\n",
    "    for x,y in zip(x_data,y_data):\n",
    "        grad=gradient(x,y)\n",
    "        w-=0.01*grad\n",
    "        #print(\"\\tgrad:\",x,y,grad)\n",
    "        l=loss(x_data,y_data)\n",
    "    epo.append(epoch)\n",
    "    los.append(l)\n",
    "    print(\"epoch:\",epoch,\"w:\",w,\"loss:\",l)\n",
    "print(\"predict (after training)\",4,forward(4))"
   ]
  },
  {
   "cell_type": "code",
   "execution_count": 12,
   "metadata": {},
   "outputs": [
    {
     "data": {
      "image/png": "[encoded data removed]",
      "text/plain": [
       "<Figure size 640x480 with 1 Axes>"
      ]
     },
     "metadata": {},
     "output_type": "display_data"
    }
   ],
   "source": [
    "#数据可视化\n",
    "plt.plot(epo,los)\n",
    "plt.ylabel('Loss')\n",
    "plt.xlabel('epoch')\n",
    "plt.grid(True)#显示网格\n",
    "plt.show()"
   ]
  }
 ],
 "metadata": {
  "kernelspec": {
   "display_name": "base",
   "language": "python",
   "name": "python3"
  },
  "language_info": {
   "codemirror_mode": {
    "name": "ipython",
    "version": 3
   },
   "file_extension": ".py",
   "mimetype": "text/x-python",
   "name": "python",
   "nbconvert_exporter": "python",
   "pygments_lexer": "ipython3",
   "version": "3.11.7"
  }
 },
 "nbformat": 4,
 "nbformat_minor": 2
}
