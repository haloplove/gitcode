{
 "cells": [
  {
   "cell_type": "markdown",
   "metadata": {},
   "source": [
    "# llamaindex 加载现有向量数据库\n"
   ]
  },
  {
   "cell_type": "code",
   "execution_count": 1,
   "metadata": {},
   "outputs": [],
   "source": [
    "import chromadb\n",
    "from llama_index.core import (\n",
    "    VectorStoreIndex,\n",
    "    get_response_synthesizer,\n",
    "    Settings,\n",
    ")\n",
    "from llama_index.llms.ollama import Ollama\n",
    "from llama_index.embeddings.ollama import OllamaEmbedding\n",
    "from llama_index.vector_stores.chroma import ChromaVectorStore\n",
    "from llama_index.core import StorageContext\n",
    "from llama_index.core.retrievers import VectorIndexRetriever\n",
    "from llama_index.core.query_engine import RetrieverQueryEngine"
   ]
  },
  {
   "cell_type": "code",
   "execution_count": 2,
   "metadata": {},
   "outputs": [],
   "source": [
    "# 设置嵌入模型和语言模型\n",
    "Settings.embed_model = OllamaEmbedding(model_name=\"yxl/m3e:latest\")\n",
    "Settings.llm = Ollama(model=\"qwen2.5:0.5b\", request_timeout=360)"
   ]
  },
  {
   "cell_type": "code",
   "execution_count": 3,
   "metadata": {},
   "outputs": [],
   "source": [
    "# 初始化 Chroma 客户端，指定数据存储路径为当前目录下的 chroma_db 文件夹\n",
    "db = chromadb.PersistentClient(path=\"C:/Users/Admin/Desktop/Data/diabetes/chroma_db\")\n",
    "\n",
    "# 获取或创建名为 \"quickstart\" 的集合，如果该集合不存在，则创建它\n",
    "chroma_collection = db.get_or_create_collection(\"quickstart\")\n",
    "\n",
    "# 使用上述集合创建一个 ChromaVectorStore 实例，以便 llama_index 可以与 Chroma 集合进行交互\n",
    "vector_store = ChromaVectorStore(chroma_collection=chroma_collection)\n",
    "\n",
    "# 创建一个存储上下文，指定向量存储为刚刚创建的 ChromaVectorStore 实例\n",
    "storage_context = StorageContext.from_defaults(vector_store=vector_store)"
   ]
  },
  {
   "cell_type": "code",
   "execution_count": 4,
   "metadata": {},
   "outputs": [],
   "source": [
    "# 从向量存储创建索引\n",
    "index = VectorStoreIndex.from_vector_store(vector_store=vector_store)\n",
    "\n",
    "# 配置检索器\n",
    "retriever = VectorIndexRetriever(\n",
    "    index=index,\n",
    "    similarity_top_k=5,  # 返回最相似的前 n 个文档片段\n",
    ")\n",
    "\n",
    "# 配置响应合成器\n",
    "response_synthesizer = get_response_synthesizer()\n",
    "\n",
    "# 组装查询引擎\n",
    "query_engine = RetrieverQueryEngine(\n",
    "    retriever=retriever,\n",
    "    response_synthesizer=response_synthesizer,\n",
    ")"
   ]
  },
  {
   "cell_type": "code",
   "execution_count": null,
   "metadata": {},
   "outputs": [
    {
     "name": "stdout",
     "output_type": "stream",
     "text": [
      "1. 具有明确的糖尿病病史；\n",
      "2. 在确诊糖尿病时或确诊之后出现的神经病变；\n",
      "3. 出现神经病变的临床症状，如疼痛、麻木、感觉异常等，5项检查任意1项异常；若无临床症状，则5项检查任意2项异常也可诊断。\n"
     ]
    }
   ],
   "source": [
    "# 执行查询\n",
    "response = query_engine.query(\"糖尿病如何诊断?\")\n",
    "print(response)  # 输出查询结果"
   ]
  },
  {
   "cell_type": "code",
   "execution_count": 6,
   "metadata": {},
   "outputs": [
    {
     "data": {
      "text/plain": [
       "'我能为你提供关于糖尿病的知识，但我不能直接诊断你是否患有糖尿病或你的病情。但是，我可以告诉你一些常见的症状和指标。\\n\\n如果你经常出现以下症状之一或多个，你应该去看医生：\\n\\n1. 体重减轻：即使你的饮食没有改变，你的体重也可能减少。\\n2. 感觉寒冷或饥饿：即使你正在努力保持热量平衡，这可能表示你可能需要更小心地控制自己的食物摄入量。\\n3. 持续的疲劳或不适：如果你在日常活动中感到疲倦或无法集中注意力，请咨询医生。\\n4. 伤口愈合缓慢：如果皮肤、黏膜或其他组织出现异常，应立即寻求医疗建议。\\n\\n请注意，这些症状也可能是其他健康问题的表现。最好的方法是与你的医疗保健提供者讨论任何疑虑和担忧。'"
      ]
     },
     "execution_count": 6,
     "metadata": {},
     "output_type": "execute_result"
    }
   ],
   "source": [
    "chat_engine = index.as_chat_engine()\n",
    "respon = chat_engine.chat(\"糖尿病如何诊断\")\n",
    "respon.response.strip()"
   ]
  }
 ],
 "metadata": {
  "kernelspec": {
   "display_name": "fine_tune",
   "language": "python",
   "name": "python3"
  },
  "language_info": {
   "codemirror_mode": {
    "name": "ipython",
    "version": 3
   },
   "file_extension": ".py",
   "mimetype": "text/x-python",
   "name": "python",
   "nbconvert_exporter": "python",
   "pygments_lexer": "ipython3",
   "version": "3.9.20"
  }
 },
 "nbformat": 4,
 "nbformat_minor": 2
}
