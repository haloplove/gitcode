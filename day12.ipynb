{
 "cells": [
  {
   "cell_type": "code",
   "execution_count": 4,
   "metadata": {},
   "outputs": [],
   "source": [
    "#多分类问题和损失计算\n",
    "import numpy as np"
   ]
  },
  {
   "cell_type": "code",
   "execution_count": 5,
   "metadata": {},
   "outputs": [],
   "source": [
    "#数据集\n",
    "y=np.array([1,0,0])\n",
    "z=np.array([0.2,0.1,-0.1])"
   ]
  },
  {
   "cell_type": "code",
   "execution_count": 6,
   "metadata": {},
   "outputs": [
    {
     "name": "stdout",
     "output_type": "stream",
     "text": [
      "0.9729189131256584\n"
     ]
    }
   ],
   "source": [
    "#向前传播\n",
    "y_pred=np.exp(z)/np.exp(z).sum()\n",
    "\n",
    "#损失计算\n",
    "loss=(-y*np.log(y_pred)).sum()\n",
    "\n",
    "print(loss)"
   ]
  },
  {
   "cell_type": "code",
   "execution_count": 24,
   "metadata": {},
   "outputs": [
    {
     "name": "stdout",
     "output_type": "stream",
     "text": [
      "ww\n",
      "我是:aa\n",
      "这是一段类解释\n",
      "stu1>stu2? False\n",
      "12\n"
     ]
    }
   ],
   "source": [
    "#类练习\n",
    "\n",
    "\n",
    "class student:\n",
    "    #公有变量\n",
    "    name=None\n",
    "    id=None\n",
    "    age=None\n",
    "    gender=None\n",
    "    #私有变量\n",
    "    __kg=12\n",
    "\n",
    "\n",
    "    def __init__(self,name,id,age,gender,kg) :\n",
    "        self.name=name\n",
    "        self.id=id\n",
    "        self.age=age\n",
    "        self.gender=gender\n",
    "     \n",
    "\n",
    "    def init(self,name):\n",
    "        print(\"我是:\"+name)\n",
    "\n",
    "    def clock(self):\n",
    "        import winsound\n",
    "        winsound.Beep(2000,3000)\n",
    "\n",
    "    def __str__(self) :\n",
    "        return f\"这是一段类解释\"\n",
    "    \n",
    "    def __lt__(self,other):\n",
    "        return self.age>other.age\n",
    "    \n",
    "    def print_kg(self):\n",
    "        print(self.__kg)\n",
    "\n",
    "\n",
    "\n",
    "stu1=student(\"ww\",123,22,'男',60)\n",
    "stu2=student(\"ss\",123,18,'女',45)\n",
    "print(stu1.name)\n",
    "stu1.init('aa')\n",
    "print(stu1)\n",
    "print(\"stu1>stu2?\",stu1>stu2)\n",
    "stu1.print_kg()\n",
    "#stu1.clock()"
   ]
  },
  {
   "cell_type": "code",
   "execution_count": 6,
   "metadata": {},
   "outputs": [
    {
     "name": "stdout",
     "output_type": "stream",
     "text": [
      "2024正在通话中\n",
      "调用父类方法\n",
      "1234\n",
      "4\n"
     ]
    }
   ],
   "source": [
    "\n",
    "class MyPhone:\n",
    "    __is_5G_enable=False\n",
    "\n",
    "    def __check_5G(self):\n",
    "        if self.__is_5G_enable==True:\n",
    "            print(\"5G开启\")\n",
    "        else:\n",
    "            print(\"5G关闭,启用4G网络\")\n",
    "\n",
    "    def call_by_5G(self):\n",
    "        self.__check_5G()\n",
    "        print(\"正在通话中\")\n",
    "\n",
    "    def testlei(self):\n",
    "        print(\"调用父类方法\")\n",
    "\n",
    "class Phone2024(MyPhone):\n",
    "    producer=None\n",
    "    Id=1234\n",
    "\n",
    "    #父类方法复写\n",
    "    def call_by_5G(self):\n",
    "        print(\"2024正在通话中\")\n",
    "        self.testlei()\n",
    "\n",
    "    def add(self,x:int,y:int):#类型注释\n",
    "        return x+y\n",
    "    \n",
    "    def add1(self,z:float,s:float)->float:#方法返回类型注解\n",
    "        return z+s\n",
    "    \n",
    "\n",
    "\n",
    "a=Phone2024()\n",
    "a.call_by_5G()\n",
    "print(a.Id)\n",
    "print(a.add(1,3))\n",
    "\n",
    "#类型注解\n",
    "val:int=3\n",
    "val2:float=0.77\n",
    "val3=77  #type:int"
   ]
  },
  {
   "cell_type": "code",
   "execution_count": 9,
   "metadata": {},
   "outputs": [
    {
     "name": "stdout",
     "output_type": "stream",
     "text": [
      "喵喵喵\n",
      "汪汪汪\n"
     ]
    }
   ],
   "source": [
    "#多态练习\n",
    "\n",
    "class Animal:\n",
    "    def speak(self):\n",
    "        pass\n",
    "\n",
    "class Dog(Animal):\n",
    "    def speak(self):\n",
    "        print(\"汪汪汪\")\n",
    "\n",
    "class Cat(Animal):\n",
    "    def speak(self):\n",
    "        print(\"喵喵喵\")\n",
    "\n",
    "def make_noise(ani:Animal):\n",
    "    ani.speak()\n",
    "\n",
    "c=Cat()\n",
    "d=Dog()\n",
    "make_noise(c)\n",
    "make_noise(d)"
   ]
  }
 ],
 "metadata": {
  "kernelspec": {
   "display_name": "base",
   "language": "python",
   "name": "python3"
  },
  "language_info": {
   "codemirror_mode": {
    "name": "ipython",
    "version": 3
   },
   "file_extension": ".py",
   "mimetype": "text/x-python",
   "name": "python",
   "nbconvert_exporter": "python",
   "pygments_lexer": "ipython3",
   "version": "3.11.7"
  }
 },
 "nbformat": 4,
 "nbformat_minor": 2
}
