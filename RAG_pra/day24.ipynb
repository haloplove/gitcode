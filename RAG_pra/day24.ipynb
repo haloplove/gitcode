{
 "cells": [
  {
   "cell_type": "markdown",
   "metadata": {},
   "source": [
    "# llama-index 练习\n"
   ]
  },
  {
   "cell_type": "markdown",
   "metadata": {},
   "source": [
    "## 简单 RAG 查询\n"
   ]
  },
  {
   "cell_type": "code",
   "execution_count": 10,
   "metadata": {},
   "outputs": [],
   "source": [
    "import chromadb\n",
    "from llama_index.core import (\n",
    "    VectorStoreIndex,\n",
    "    SimpleDirectoryReader,\n",
    "    get_response_synthesizer,\n",
    "    Settings,\n",
    ")\n",
    "from llama_index.llms.ollama import Ollama\n",
    "from llama_index.embeddings.ollama import OllamaEmbedding\n",
    "from llama_index.core.node_parser import SentenceSplitter\n",
    "from llama_index.vector_stores.chroma import ChromaVectorStore\n",
    "from llama_index.core import StorageContext\n",
    "from llama_index.core.retrievers import VectorIndexRetriever\n",
    "from llama_index.core.query_engine import RetrieverQueryEngine"
   ]
  },
  {
   "cell_type": "code",
   "execution_count": 11,
   "metadata": {},
   "outputs": [],
   "source": [
    "# 设置嵌入模型和语言模型\n",
    "Settings.embed_model = OllamaEmbedding(model_name=\"yxl/m3e:latest\")\n",
    "Settings.llm = Ollama(model=\"qwen2.5:0.5b\", request_timeout=360)"
   ]
  },
  {
   "cell_type": "code",
   "execution_count": 12,
   "metadata": {},
   "outputs": [],
   "source": [
    "# 初始化 Chroma 客户端，指定数据存储路径为当前目录下的 chroma_db 文件夹\n",
    "db = chromadb.PersistentClient(path=\"./chroma_db\")\n",
    "\n",
    "# 获取或创建名为 \"quickstart\" 的集合，如果该集合不存在，则创建它\n",
    "chroma_collection = db.get_or_create_collection(\"quickstart\")\n",
    "\n",
    "# 使用上述集合创建一个 ChromaVectorStore 实例，以便 llama_index 可以与 Chroma 集合进行交互\n",
    "vector_store = ChromaVectorStore(chroma_collection=chroma_collection)\n",
    "\n",
    "# 创建一个存储上下文，指定向量存储为刚刚创建的 ChromaVectorStore 实例\n",
    "storage_context = StorageContext.from_defaults(vector_store=vector_store)"
   ]
  },
  {
   "cell_type": "code",
   "execution_count": 16,
   "metadata": {},
   "outputs": [],
   "source": [
    "# 读取文档\n",
    "documents = SimpleDirectoryReader(\"C:/Users/Admin/Desktop/Data/\").load_data()\n",
    "\n",
    "# 构建索引\n",
    "index = VectorStoreIndex.from_documents(\n",
    "    documents,\n",
    "    storage_context=storage_context,\n",
    "    transformations=[SentenceSplitter(chunk_size=256)],\n",
    ")"
   ]
  },
  {
   "cell_type": "code",
   "execution_count": 14,
   "metadata": {},
   "outputs": [],
   "source": [
    "# 配置检索器\n",
    "retriever = VectorIndexRetriever(\n",
    "    index=index,\n",
    "    similarity_top_k=5,  # 返回最相似的前 n 个文档片段\n",
    ")\n",
    "\n",
    "# 配置响应合成器\n",
    "response_synthesizer = get_response_synthesizer()\n",
    "\n",
    "# 组装查询引擎\n",
    "query_engine = RetrieverQueryEngine(\n",
    "    retriever=retriever,\n",
    "    response_synthesizer=response_synthesizer,\n",
    ")"
   ]
  },
  {
   "cell_type": "code",
   "execution_count": 15,
   "metadata": {},
   "outputs": [
    {
     "name": "stdout",
     "output_type": "stream",
     "text": [
      "数字经济是一门新兴的经济形态，通过将物理世界的信息、过程和服务转换成数字形式，以提高生产效率、优化资源配置和促进创新。\n"
     ]
    }
   ],
   "source": [
    "# 执行查询\n",
    "response = query_engine.query(\"数字经济\")\n",
    "print(response)  # 输出查询结果"
   ]
  }
 ],
 "metadata": {
  "kernelspec": {
   "display_name": "fine_tune",
   "language": "python",
   "name": "python3"
  },
  "language_info": {
   "codemirror_mode": {
    "name": "ipython",
    "version": 3
   },
   "file_extension": ".py",
   "mimetype": "text/x-python",
   "name": "python",
   "nbconvert_exporter": "python",
   "pygments_lexer": "ipython3",
   "version": "3.9.20"
  }
 },
 "nbformat": 4,
 "nbformat_minor": 2
}
