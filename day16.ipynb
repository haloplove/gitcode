{
 "cells": [
  {
   "cell_type": "code",
   "execution_count": 10,
   "metadata": {},
   "outputs": [],
   "source": [
    "#mysql练习\n",
    "from pymysql import Connection\n",
    "\n",
    "#链接mysql\n",
    "conn=Connection(\n",
    "    host=\"127.0.0.1\",\n",
    "    port=3306,\n",
    "    user=\"root\",\n",
    "    password=\"123456\"\n",
    "    )"
   ]
  },
  {
   "cell_type": "code",
   "execution_count": 11,
   "metadata": {},
   "outputs": [
    {
     "name": "stdout",
     "output_type": "stream",
     "text": [
      "(2, '丽丽')\n"
     ]
    }
   ],
   "source": [
    "# print(conn.get_server_info)\n",
    "#获取游标对象\n",
    "cursor=conn.cursor()\n",
    "#选择数据库\n",
    "conn.select_db(\"fsql\")\n",
    "#创建表\n",
    "#cursor.execute(\"create table orders(order_date date,order_id varchar(255),money int,province varchar(10))\")\n",
    "#插入数据\n",
    "# cursor.execute(\"insert into itable values(2,'晓明')\")\n",
    "#插入数据确认\n",
    "# conn.commit()\n",
    "#删除数据\n",
    "# cursor.execute(\"delete from itable where workernum='晓明'\")\n",
    "# 查询表数据\n",
    "cursor.execute(\"select * from itable\")\n",
    "result=cursor.fetchall()\n",
    "for r in result:\n",
    "    print(r)"
   ]
  },
  {
   "cell_type": "code",
   "execution_count": 12,
   "metadata": {},
   "outputs": [],
   "source": [
    "conn.close()"
   ]
  }
 ],
 "metadata": {
  "kernelspec": {
   "display_name": "base",
   "language": "python",
   "name": "python3"
  },
  "language_info": {
   "codemirror_mode": {
    "name": "ipython",
    "version": 3
   },
   "file_extension": ".py",
   "mimetype": "text/x-python",
   "name": "python",
   "nbconvert_exporter": "python",
   "pygments_lexer": "ipython3",
   "version": "3.11.7"
  }
 },
 "nbformat": 4,
 "nbformat_minor": 2
}
