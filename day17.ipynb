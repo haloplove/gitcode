{
 "cells": [
  {
   "cell_type": "code",
   "execution_count": 5,
   "metadata": {},
   "outputs": [
    {
     "name": "stdout",
     "output_type": "stream",
     "text": [
      "tensor([[[ 0.6860,  0.0308,  0.5203,  2.2268]],\n",
      "\n",
      "        [[ 0.3569, -1.3209,  1.4775,  0.8330]],\n",
      "\n",
      "        [[-0.1742,  0.2578, -0.8669,  0.5733]]])\n"
     ]
    }
   ],
   "source": [
    "#rnn练习\n",
    "import torch\n",
    "\n",
    "#初始化参数\n",
    "batch_size=1\n",
    "seq_len=3\n",
    "input_size=4\n",
    "hidden_size=2\n",
    "\n",
    "#创建数据集\n",
    "dataset=torch.randn(seq_len,batch_size,input_size)\n",
    "print(dataset)\n",
    "#隐藏层初始化\n",
    "hidden=torch.zeros(batch_size,hidden_size)"
   ]
  },
  {
   "cell_type": "code",
   "execution_count": 6,
   "metadata": {},
   "outputs": [],
   "source": [
    "#模型构建\n",
    "cell=torch.nn.RNNCell(input_size=input_size,hidden_size=hidden_size)"
   ]
  },
  {
   "cell_type": "code",
   "execution_count": 7,
   "metadata": {},
   "outputs": [
    {
     "name": "stdout",
     "output_type": "stream",
     "text": [
      "==================== 0 ====================\n",
      "input_size: torch.Size([1, 4])\n",
      "output_size: torch.Size([1, 2])\n",
      "tensor([[0.3388, 0.2763]], grad_fn=<TanhBackward0>)\n",
      "==================== 1 ====================\n",
      "input_size: torch.Size([1, 4])\n",
      "output_size: torch.Size([1, 2])\n",
      "tensor([[ 0.6642, -0.5018]], grad_fn=<TanhBackward0>)\n",
      "==================== 2 ====================\n",
      "input_size: torch.Size([1, 4])\n",
      "output_size: torch.Size([1, 2])\n",
      "tensor([[-0.1469, -0.5633]], grad_fn=<TanhBackward0>)\n"
     ]
    }
   ],
   "source": [
    "#训练模型\n",
    "for idx,input in enumerate(dataset):\n",
    "    print('='*20,idx,'='*20)\n",
    "    print('input_size:',input.shape)\n",
    "\n",
    "    hidden=cell(input,hidden)\n",
    "\n",
    "    print('output_size:',hidden.shape)\n",
    "    print(hidden)"
   ]
  }
 ],
 "metadata": {
  "kernelspec": {
   "display_name": "base",
   "language": "python",
   "name": "python3"
  },
  "language_info": {
   "codemirror_mode": {
    "name": "ipython",
    "version": 3
   },
   "file_extension": ".py",
   "mimetype": "text/x-python",
   "name": "python",
   "nbconvert_exporter": "python",
   "pygments_lexer": "ipython3",
   "version": "3.9.19"
  }
 },
 "nbformat": 4,
 "nbformat_minor": 2
}
