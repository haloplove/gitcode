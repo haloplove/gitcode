{
 "cells": [
  {
   "cell_type": "markdown",
   "metadata": {},
   "source": [
    "# Gradio 前端练习\n"
   ]
  },
  {
   "cell_type": "code",
   "execution_count": 67,
   "metadata": {},
   "outputs": [],
   "source": [
    "import gradio as gr"
   ]
  },
  {
   "cell_type": "code",
   "execution_count": 68,
   "metadata": {},
   "outputs": [],
   "source": [
    "def func():\n",
    "    return \"文本输出\""
   ]
  },
  {
   "cell_type": "code",
   "execution_count": 69,
   "metadata": {},
   "outputs": [],
   "source": [
    "# 组件\n",
    "list = [\n",
    "    gr.Audio(sources=\"microphone\", type=\"numpy\", label=\"音频输入\"),\n",
    "    gr.Checkbox(label=\"勾选\"),\n",
    "    gr.ColorPicker(label=\"颜色板选择\"),\n",
    "    gr.DataFrame(label=\"表格\"),\n",
    "    gr.Dropdown(label=\"下拉框选择\"),\n",
    "    gr.File(label=\"上传文件\"),\n",
    "    gr.Image(sources=\"upload\", label=\"上传图片\"),\n",
    "    gr.Radio(choices=[\"1\", \"2\", \"3\"], label=\"选项\"),\n",
    "    gr.Slider(minimum=1, maximum=10, step=1, label=\"滑块\"),\n",
    "    gr.Textbox(label=\"文本输入\"),\n",
    "]"
   ]
  },
  {
   "cell_type": "code",
   "execution_count": 71,
   "metadata": {},
   "outputs": [
    {
     "name": "stdout",
     "output_type": "stream",
     "text": [
      "Running on local URL:  http://127.0.0.1:7888\n",
      "\n",
      "To create a public link, set `share=True` in `launch()`.\n"
     ]
    },
    {
     "data": {
      "text/html": [
       "<div><iframe src=\"http://127.0.0.1:7888/\" width=\"100%\" height=\"500\" allow=\"autoplay; camera; microphone; clipboard-read; clipboard-write;\" frameborder=\"0\" allowfullscreen></iframe></div>"
      ],
      "text/plain": [
       "<IPython.core.display.HTML object>"
      ]
     },
     "metadata": {},
     "output_type": "display_data"
    },
    {
     "data": {
      "text/plain": []
     },
     "execution_count": 71,
     "metadata": {},
     "output_type": "execute_result"
    }
   ],
   "source": [
    "with gr.Blocks() as demo:\n",
    "    with gr.Tab(label=\"页面1\"):\n",
    "        gr.Markdown(\n",
    "            \"# 前端练习\",\n",
    "        )\n",
    "        with gr.Row():\n",
    "            with gr.Column():\n",
    "                au = gr.Audio(sources=\"microphone\", label=\"输入录音\")\n",
    "                fil = gr.File(label=\"输入文件\")\n",
    "            txt2 = gr.Textbox(\"输出文本\")\n",
    "            gr.Chatbot()\n",
    "    with gr.Tab(label=\"页面2\"):\n",
    "        with gr.Row():\n",
    "            but1 = gr.Button(value=\"1\", min_width=1, variant=\"primary\", scale=1)\n",
    "            txt1 = gr.Textbox(label=\"输入文本\")\n",
    "            but1.click(func, None, txt1)  # 点击实践\n",
    "\n",
    "demo.launch()"
   ]
  }
 ],
 "metadata": {
  "kernelspec": {
   "display_name": "fine_tune",
   "language": "python",
   "name": "python3"
  },
  "language_info": {
   "codemirror_mode": {
    "name": "ipython",
    "version": 3
   },
   "file_extension": ".py",
   "mimetype": "text/x-python",
   "name": "python",
   "nbconvert_exporter": "python",
   "pygments_lexer": "ipython3",
   "version": "3.9.20"
  }
 },
 "nbformat": 4,
 "nbformat_minor": 2
}
