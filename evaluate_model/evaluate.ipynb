{
 "cells": [
  {
   "cell_type": "markdown",
   "metadata": {},
   "source": [
    "# BLEU-1\n"
   ]
  },
  {
   "cell_type": "code",
   "execution_count": null,
   "metadata": {},
   "outputs": [],
   "source": [
    "import jieba\n",
    "from nltk.translate.bleu_score import sentence_bleu, SmoothingFunction\n",
    "\n",
    "\n",
    "# 计算 BLEU 分数（带平滑）\n",
    "def calculate_bleu_smooth(generated, references, n=1):\n",
    "    \"\"\"\n",
    "    计算 BLEU-N 分数（带平滑）\n",
    "    :param generated: 生成文本（字符串或列表）\n",
    "    :param references: 参考文本（字符串或列表）\n",
    "    :param n: BLEU-N 的 n 值（默认为 1）\n",
    "    :return: BLEU-N 分数\n",
    "    \"\"\"\n",
    "    # 统一格式：将字符串转换为列表\n",
    "    if isinstance(generated, str):\n",
    "        generated = [generated]\n",
    "    if isinstance(references, str):\n",
    "        references = [references]\n",
    "\n",
    "    # 对生成文本和参考文本分词\n",
    "    generated_tokens = list(jieba.cut(generated[0]))  # 直接使用 jieba 分词\n",
    "    reference_tokens_list = [\n",
    "        list(jieba.cut(ref)) for ref in references\n",
    "    ]  # 对参考文本分词\n",
    "\n",
    "    # 设置权重（BLEU-N）\n",
    "    weights = [0] * n\n",
    "    weights[-1] = 1  # 设置第 N 个权重为 1\n",
    "\n",
    "    # 使用平滑技术\n",
    "    smoothing = SmoothingFunction().method1  # 选择平滑方法\n",
    "\n",
    "    # 计算 BLEU 分数\n",
    "    bleu_score = sentence_bleu(\n",
    "        reference_tokens_list,\n",
    "        generated_tokens,\n",
    "        weights=weights,\n",
    "        smoothing_function=smoothing,\n",
    "    )\n",
    "    return bleu_score\n",
    "\n",
    "\n",
    "# 示例数据（字符串格式）\n",
    "generated_answer = \"我喜欢吃苹果\"\n",
    "reference_answers = \"我不爱吃雪梨和香蕉\"\n",
    "\n",
    "# 计算 BLEU-1 到 BLEU-4（带平滑）\n",
    "for n in range(1, 5):\n",
    "    score = calculate_bleu_smooth(generated_answer, reference_answers, n)\n",
    "    print(f\"BLEU-{n} 分数（带平滑）:\", score)"
   ]
  },
  {
   "cell_type": "markdown",
   "metadata": {},
   "source": [
    "# ROUGE\n",
    "\n",
    "“f” 表示 f1_score, “p” 表示 precision, “r” 表示 recall\n"
   ]
  },
  {
   "cell_type": "code",
   "execution_count": null,
   "metadata": {},
   "outputs": [],
   "source": [
    "from rouge_chinese import Rouge\n",
    "import jieba  # you can use any other word cutting library\n",
    "\n",
    "hypothesis = \"我喜欢吃苹果\"\n",
    "hypothesis = \" \".join(jieba.cut(hypothesis))\n",
    "\n",
    "reference = \"我不爱吃雪梨和香蕉\"\n",
    "reference = \" \".join(jieba.cut(reference))\n",
    "\n",
    "rouge = Rouge()\n",
    "scores = rouge.get_scores(hypothesis, reference)\n",
    "scores"
   ]
  }
 ],
 "metadata": {
  "kernelspec": {
   "display_name": "bloom_ft",
   "language": "python",
   "name": "python3"
  },
  "language_info": {
   "codemirror_mode": {
    "name": "ipython",
    "version": 3
   },
   "file_extension": ".py",
   "mimetype": "text/x-python",
   "name": "python",
   "nbconvert_exporter": "python",
   "pygments_lexer": "ipython3",
   "version": "3.9.20"
  }
 },
 "nbformat": 4,
 "nbformat_minor": 2
}
