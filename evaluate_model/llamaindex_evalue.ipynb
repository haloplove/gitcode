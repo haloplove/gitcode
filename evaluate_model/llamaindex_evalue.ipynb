{
 "cells": [
  {
   "cell_type": "markdown",
   "metadata": {},
   "source": [
    "# llamaindex 评估\n"
   ]
  },
  {
   "cell_type": "code",
   "execution_count": 1,
   "metadata": {},
   "outputs": [],
   "source": [
    "import chromadb\n",
    "from llama_index.core import (\n",
    "    VectorStoreIndex,\n",
    "    get_response_synthesizer,\n",
    "    Settings,\n",
    ")\n",
    "from llama_index.llms.ollama import Ollama\n",
    "from llama_index.embeddings.ollama import OllamaEmbedding\n",
    "from llama_index.core.node_parser import SentenceSplitter\n",
    "from llama_index.vector_stores.chroma import ChromaVectorStore\n",
    "from llama_index.core import StorageContext\n",
    "from llama_index.core.retrievers import VectorIndexRetriever\n",
    "from llama_index.core.query_engine import RetrieverQueryEngine"
   ]
  },
  {
   "cell_type": "code",
   "execution_count": 2,
   "metadata": {},
   "outputs": [],
   "source": [
    "# 设置嵌入模型和语言模型\n",
    "Settings.embed_model = OllamaEmbedding(model_name=\"yxl/m3e:latest\")\n",
    "Settings.llm = Ollama(model=\"qwen2.5:0.5b\", request_timeout=360)\n",
    "# llm = Ollama(model=\"qwen2.5:0.5b\", request_timeout=120.0)"
   ]
  },
  {
   "cell_type": "code",
   "execution_count": 3,
   "metadata": {},
   "outputs": [],
   "source": [
    "# 初始化 Chroma 客户端，指定数据存储路径为当前目录下的 chroma_db 文件夹\n",
    "db = chromadb.PersistentClient(path=\"C:/Users/Admin/Desktop/Data/diabetes/chroma_db\")\n",
    "\n",
    "# 获取或创建名为 \"quickstart\" 的集合，如果该集合不存在，则创建它\n",
    "chroma_collection = db.get_or_create_collection(\"quickstart\")\n",
    "\n",
    "# 使用上述集合创建一个 ChromaVectorStore 实例，以便 llama_index 可以与 Chroma 集合进行交互\n",
    "vector_store = ChromaVectorStore(chroma_collection=chroma_collection)\n",
    "\n",
    "# 创建一个存储上下文，指定向量存储为刚刚创建的 ChromaVectorStore 实例\n",
    "storage_context = StorageContext.from_defaults(vector_store=vector_store)"
   ]
  },
  {
   "cell_type": "code",
   "execution_count": 4,
   "metadata": {},
   "outputs": [],
   "source": [
    "# LlamaParse 是异步优先的，在 Notebook 中运行同步代码需要使用 nest_asyncio\n",
    "import nest_asyncio\n",
    "\n",
    "nest_asyncio.apply()\n",
    "import os\n",
    "\n",
    "os.environ[\"LLAMA_CLOUD_API_KEY\"] = (\n",
    "    \"llx-YffHorRyQHp8qT3NEeZC5tHgXC6FEunNgwqozcLQhaGTGNPa\"\n",
    ")"
   ]
  },
  {
   "cell_type": "code",
   "execution_count": 5,
   "metadata": {},
   "outputs": [
    {
     "name": "stderr",
     "output_type": "stream",
     "text": [
      "Parsing files:   0%|          | 0/3 [00:00<?, ?it/s]"
     ]
    },
    {
     "name": "stderr",
     "output_type": "stream",
     "text": [
      "Parsing files: 100%|██████████| 3/3 [02:05<00:00, 41.82s/it]\n"
     ]
    }
   ],
   "source": [
    "from llama_parse import LlamaParse\n",
    "\n",
    "parser = LlamaParse(\n",
    "    result_type=\"markdown\",\n",
    "    language=\"ch_sim\",\n",
    "    verbose=True,\n",
    "    num_workers=1,\n",
    ")\n",
    "\n",
    "documents = parser.load_data(\n",
    "    [\n",
    "        \"C:/Users/Admin/Desktop/Data/diabetes/国家基层糖尿病防治管理指南.pdf\",\n",
    "        \"C:/Users/Admin/Desktop/Data/diabetes/中国糖尿病护理及教育指南.pdf\",\n",
    "        \"C:/Users/Admin/Desktop/Data/diabetes/中国血糖监测临床应用指南（2021）.pdf\",\n",
    "    ]\n",
    ")"
   ]
  },
  {
   "cell_type": "code",
   "execution_count": 6,
   "metadata": {},
   "outputs": [
    {
     "name": "stdout",
     "output_type": "stream",
     "text": [
      "# 国家基层糖尿病防治管理指南（2022）\n",
      "\n",
      "# 主编 贾伟平\n",
      "\n",
      "# 中华医学会糖尿病学分会\n",
      "\n",
      "# 国家基层糖尿病防治管理办公室\n",
      "\n",
      "# 上海交通大学医学院附属第六人民医院\n",
      "\n",
      "组织编写\n",
      "\n"
     ]
    }
   ],
   "source": [
    "print(documents[0].text[:1000])\n",
    "print(documents[0].get_content()[1000:10000])"
   ]
  },
  {
   "cell_type": "code",
   "execution_count": null,
   "metadata": {},
   "outputs": [
    {
     "name": "stdout",
     "output_type": "stream",
     "text": [
      "Index created successfully\n"
     ]
    }
   ],
   "source": [
    "# 读取文档\n",
    "# documents = SimpleDirectoryReader(\"C:/Users/Admin/Desktop/Data/diabetes/\").load_data()\n",
    "\n",
    "# 构建索引\n",
    "try:\n",
    "    index = VectorStoreIndex.from_documents(\n",
    "        documents=documents,\n",
    "        storage_context=storage_context,\n",
    "        transformations=[SentenceSplitter(chunk_size=256)],\n",
    "    )\n",
    "    print(\"Index created successfully\")\n",
    "except Exception as e:\n",
    "    print(\"Error during index creation:\", e)"
   ]
  },
  {
   "cell_type": "code",
   "execution_count": 8,
   "metadata": {},
   "outputs": [],
   "source": [
    "# 配置检索器\n",
    "retriever = VectorIndexRetriever(\n",
    "    index=index,\n",
    "    similarity_top_k=5,  # 返回最相似的前 n 个文档片段\n",
    ")\n",
    "\n",
    "# 配置响应合成器\n",
    "response_synthesizer = get_response_synthesizer()\n",
    "\n",
    "# 组装查询引擎\n",
    "query_engine = RetrieverQueryEngine(\n",
    "    retriever=retriever,\n",
    "    response_synthesizer=response_synthesizer,\n",
    ")"
   ]
  },
  {
   "cell_type": "code",
   "execution_count": 10,
   "metadata": {},
   "outputs": [
    {
     "name": "stdout",
     "output_type": "stream",
     "text": [
      "糖尿病的诊断通常包括以下几个步骤：\n",
      "\n",
      "1. **自我监测**：患者会记录血糖水平、糖化血红蛋白等指标，以便实时了解自己的血糖变化趋势。\n",
      "2. **就医检查**：医生会根据患者的症状和体征进行初步评估，并可能要求做一系列检查，如空腹血糖测试、随机血糖测试、尿液检查等。\n",
      "\n",
      "如果出现糖尿病的任何症状，比如频繁的饥饿感或疲劳、多饮或多尿、体重下降或其他不适表现，则应及时就医。医生可能会建议你做一些进一步的检查，例如：\n",
      "\n",
      "- **口服葡萄糖耐量试验（OGTT）**：通过摄入含糖食物后测血糖水平。\n",
      "- **随机血糖测试**：即在未进行任何其他活动的情况下立即检测血糖。\n",
      "\n",
      "以上信息供您参考，并不是必须全部掌握的内容。\n"
     ]
    }
   ],
   "source": [
    "# 执行查询\n",
    "response = query_engine.query(\"糖尿病诊断\")\n",
    "print(response)  # 输出查询结果"
   ]
  },
  {
   "cell_type": "code",
   "execution_count": 9,
   "metadata": {},
   "outputs": [
    {
     "data": {
      "text/plain": [
       "'糖尿病的诊断通常需要以下几个步骤：\\n\\n1. **病史询问**：医生会首先询问你的症状，如频繁尿频、体重增加、眼睛干涩、疲劳等。医生还会询问你是否有家族史。\\n\\n2. **体格检查**：医生会对你的身体进行全面检查，包括测量血压、血糖水平等。\\n\\n3. **实验室检测**：实验室测试，如空腹血糖和糖化血红蛋白（HbA1c）检测，可以帮助诊断糖尿病。\\n\\n4. **其他辅助检查**：有时可能需要进行胃镜、心电图或其他特定的检查来排除其他可能导致类似症状的原因。\\n\\n如果你有具体的症状或担心自己是否患有糖尿病，请尽快咨询医生。'"
      ]
     },
     "execution_count": 9,
     "metadata": {},
     "output_type": "execute_result"
    }
   ],
   "source": [
    "chat_engine = index.as_chat_engine()"
   ]
  },
  {
   "cell_type": "code",
   "execution_count": null,
   "metadata": {},
   "outputs": [],
   "source": [
    "respon = chat_engine.chat(\"糖尿病如何诊断\")\n",
    "respon.response.strip()"
   ]
  },
  {
   "cell_type": "code",
   "execution_count": null,
   "metadata": {},
   "outputs": [],
   "source": [
    "while True:\n",
    "    question = input(\"请输入您的问题（输入 '/bye' 以结束）：\")\n",
    "    if question.lower() == \"/bye\":\n",
    "        break\n",
    "    response = chat_engine.chat(question)\n",
    "    print(response.response.strip())"
   ]
  },
  {
   "cell_type": "markdown",
   "metadata": {},
   "source": [
    "评估 RAG 应用需要用到几个评估实体，分别是：\n",
    "\n",
    "- Question: 指用户输入的问题，RAG 应用通过问题检索到相关的文档上下文\n",
    "- Context: 指检索到的文档上下文，RAG 应用检索到相关文档后会将这些上下\n",
    "  文结合用户问题一起提交给 LLM，最后生成答案\n",
    "- Answer: 指生成的答案，RAG 应用将问题和上下文提交给 LLM 后，LLM 会\n",
    "  根据这些信息来生成答案\n",
    "- Grouth Truth: 指人工标注的正确答案，利用这个实体可以对生成的答案进\n",
    "  行分析，从而得到评估结果，在 LlamaIndex 中，这个实体叫做 Reference Answer\n",
    "\n",
    "其中 Question 和 Ground Truth 通过用户提供，Context 通过检索得到，Answer\n",
    "是由 LLM 生成，后面我们在讲解的时候会沿用这些实体名称。在 LlamaIndex 中提供\n",
    "了生成测试数据集的功能，可以帮助我们快速生成测试数据集，无需人工干预。\n"
   ]
  },
  {
   "cell_type": "markdown",
   "metadata": {},
   "source": [
    "# 评估问题\n",
    "\n",
    "## 适合微调的问题：\n",
    "\n",
    "这些问题的答案相对固定，基于已知的医学知识，适合通过微调模型来优化回答。\n",
    "\n",
    "糖尿病的分期是什么？\n",
    "\n",
    "这是一个定义性问题，答案基于标准医学分类。\n",
    "\n",
    "糖尿病患者应该多久进行一次散瞳眼检？\n",
    "\n",
    "这是基于医疗指南的建议，答案相对固定。\n",
    "\n",
    "低血糖有哪些症状？\n",
    "\n",
    "低血糖症状是已知的，适合通过微调来提供准确回答。\n",
    "\n",
    "糖尿病可以被逆转吗？\n",
    "\n",
    "这是一个普遍关注的问题，答案基于当前医学知识。\n",
    "\n",
    "连续血糖监测（CGM）在糖尿病管理中的好处是什么？\n",
    "\n",
    "CGM 的好处是已知的，适合提供标准化回答。\n",
    "\n",
    "压力如何影响糖尿病患者的血糖水平？\n",
    "\n",
    "一般机制已知，适合微调模型来解释。\n",
    "\n",
    "胰岛素在 2 型糖尿病管理中的作用是什么？\n",
    "\n",
    "胰岛素的作用是明确的，适合提供标准回答。\n",
    "\n",
    "糖尿病友好的饮食有哪些关键组成部分？\n",
    "\n",
    "饮食建议是标准化的，适合微调模型来提供。\n",
    "\n",
    "糖尿病教育如何改善患者的结果？\n",
    "\n",
    "教育的好处是已知的，适合提供固定答案。\n",
    "\n",
    "1 型糖尿病和 2 型糖尿病有什么区别？\n",
    "\n",
    "这是一个基本的区分问题，答案固定。\n",
    "\n",
    "## 适合 RAG 的问题：\n",
    "\n",
    "这些问题可能需要最新的研究进展或个性化建议，适合用 RAG 来补充外部信息。\n",
    "\n",
    "妊娠期糖尿病控制不良有哪些风险？\n",
    "\n",
    "可能涉及最新的研究或统计数据。\n",
    "\n",
    "运动如何影响胰岛素敏感性？\n",
    "\n",
    "可能需要最新的研究结果。\n",
    "\n",
    "糖尿病的长期并发症有哪些？\n",
    "\n",
    "可能涉及新兴的研究或更新的数据。\n",
    "\n",
    "妊娠糖尿病是如何诊断的？\n",
    "\n",
    "诊断标准可能随时间更新。\n",
    "\n",
    "糖尿病药物的最新发展是什么？\n",
    "\n",
    "需要最新的药物信息。\n",
    "\n",
    "## 适合两者结合的问题：\n",
    "\n",
    "这些问题既需要基础的医学知识，又可能需要最新的研究成果，适合结合微调和 RAG 来回答。\n",
    "\n",
    "压力如何影响糖尿病患者的血糖水平？\n",
    "\n",
    "结合已知机制和最新研究。\n",
    "\n",
    "运动如何影响胰岛素敏感性？\n",
    "\n",
    "结合标准知识和最新研究成果。\n",
    "\n",
    "糖尿病的长期并发症有哪些？\n",
    "\n",
    "结合已知并发症和新兴研究。\n",
    "\n",
    "妊娠糖尿病是如何诊断的？\n",
    "\n",
    "结合标准诊断流程和最新指南。\n"
   ]
  },
  {
   "cell_type": "code",
   "execution_count": 29,
   "metadata": {},
   "outputs": [],
   "source": [
    "from llama_index.core.evaluation import BatchEvalRunner\n",
    "from llama_index.core.evaluation import ContextRelevancyEvaluator\n",
    "from llama_index.core.evaluation import AnswerRelevancyEvaluator\n",
    "from llama_index.core.evaluation import FaithfulnessEvaluator\n",
    "from llama_index.core.evaluation import CorrectnessEvaluator\n",
    "from llama_index.core.evaluation import PairwiseComparisonEvaluator\n",
    "from llama_index.core.evaluation import RelevancyEvaluator\n",
    "\n",
    "answer_relevancy_evaluator = AnswerRelevancyEvaluator()\n",
    "context_relevancy_evaluator = ContextRelevancyEvaluator()\n",
    "relevant_evaluator = RelevancyEvaluator()\n",
    "correctness_evaluator = CorrectnessEvaluator()\n",
    "faithfulness_evaluator = FaithfulnessEvaluator()\n",
    "pairwiseComparisonEvaluator = PairwiseComparisonEvaluator()\n",
    "\n",
    "runner = BatchEvalRunner(\n",
    "    evaluators={\n",
    "        \"answer_relevancy\": answer_relevancy_evaluator,\n",
    "        \"context_relevancy\": context_relevancy_evaluator,\n",
    "        \"relevancy\": relevant_evaluator,\n",
    "        \"correctness\": correctness_evaluator,\n",
    "        \"faithfulness\": faithfulness_evaluator,\n",
    "        \"pairwiseComparisonEvaluator\": pairwiseComparisonEvaluator,\n",
    "    },\n",
    "    workers=8,\n",
    ")"
   ]
  },
  {
   "cell_type": "code",
   "execution_count": null,
   "metadata": {},
   "outputs": [],
   "source": [
    "node_parser = SentenceSplitter()\n",
    "nodes = node_parser.get_nodes_from_documents(documents)\n",
    "vector_index = VectorStoreIndex(nodes)\n",
    "engine = vector_index.as_query_engine()\n",
    "response = engine.query(question)\n",
    "answer = str(response)"
   ]
  },
  {
   "cell_type": "code",
   "execution_count": null,
   "metadata": {},
   "outputs": [],
   "source": [
    "questions = [example.query for example in examples]\n",
    "ground_truths = [example.reference_answer for example in examples]\n",
    "metrics_results = runner.evaluate_queries(\n",
    "    engine, queries=questions, reference=ground_truths\n",
    ")\n",
    "\n",
    "for metrics in metrics_results.keys():\n",
    "    print(f\"metrics: {metrics}\")\n",
    "    eval_results = metrics_results[metrics]\n",
    "    for eval_result in eval_results:\n",
    "        print(f\"score: {eval_result.score}\")\n",
    "        print(f\"feedback: {eval_result.feedback}\")\n",
    "        if eval_result.passing is not None:\n",
    "            print(f\"passing: {eval_result.passing}\")"
   ]
  }
 ],
 "metadata": {
  "kernelspec": {
   "display_name": "fine_tune",
   "language": "python",
   "name": "python3"
  },
  "language_info": {
   "codemirror_mode": {
    "name": "ipython",
    "version": 3
   },
   "file_extension": ".py",
   "mimetype": "text/x-python",
   "name": "python",
   "nbconvert_exporter": "python",
   "pygments_lexer": "ipython3",
   "version": "3.9.20"
  }
 },
 "nbformat": 4,
 "nbformat_minor": 2
}
