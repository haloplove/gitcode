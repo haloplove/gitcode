{
 "cells": [
  {
   "cell_type": "markdown",
   "metadata": {},
   "source": [
    "# perplexity 评估\n",
    "\n",
    "衡量模型对测试数据的预测能力，数值越低表示模型性能越好。\n"
   ]
  },
  {
   "cell_type": "code",
   "execution_count": null,
   "metadata": {},
   "outputs": [
    {
     "name": "stdout",
     "output_type": "stream",
     "text": [
      "困惑度: 89.75600468401245\n"
     ]
    }
   ],
   "source": [
    "from transformers import AutoModelForCausalLM, AutoTokenizer\n",
    "from datasets import load_dataset\n",
    "import torch\n",
    "import math\n",
    "\n",
    "# 加载预训练模型和 tokenizer\n",
    "model_name = \"C:/Users/Admin/Desktop/model/qwen/Qwen2___5-0___5B-Instruct\"\n",
    "model = AutoModelForCausalLM.from_pretrained(model_name)\n",
    "tokenizer = AutoTokenizer.from_pretrained(model_name)\n",
    "\n",
    "# 加载评估数据集\n",
    "data_files = {\"test\": \"C:/Users/Admin/Desktop/Data/huatuo_train.json\"}\n",
    "dataset = load_dataset(\"json\", data_files=data_files, split=\"test\")\n",
    "\n",
    "\n",
    "# 定义计算困惑度的函数\n",
    "def compute_perplexity(model, tokenizer, dataset):\n",
    "    model.eval()\n",
    "    total_loss = 0.0\n",
    "    total_length = 0\n",
    "\n",
    "    for example in dataset:\n",
    "        for conversation in example[\"conversations\"]:\n",
    "            if conversation[\"from\"] == \"human\":\n",
    "                inputs = tokenizer(\n",
    "                    conversation[\"value\"],\n",
    "                    return_tensors=\"pt\",\n",
    "                    truncation=True,\n",
    "                    padding=True,\n",
    "                )\n",
    "                input_ids = inputs.input_ids.to(model.device)\n",
    "                with torch.no_grad():\n",
    "                    outputs = model(input_ids, labels=input_ids)\n",
    "                    loss = outputs.loss\n",
    "                    total_loss += loss.item() * input_ids.size(1)\n",
    "                    total_length += input_ids.size(1)\n",
    "\n",
    "    perplexity = math.exp(total_loss / total_length)\n",
    "    return perplexity\n",
    "\n",
    "\n",
    "# 计算困惑度\n",
    "perplexity = compute_perplexity(model, tokenizer, dataset)\n",
    "print(f\"困惑度: {perplexity}\")"
   ]
  }
 ],
 "metadata": {
  "kernelspec": {
   "display_name": "pra_torch",
   "language": "python",
   "name": "python3"
  },
  "language_info": {
   "codemirror_mode": {
    "name": "ipython",
    "version": 3
   },
   "file_extension": ".py",
   "mimetype": "text/x-python",
   "name": "python",
   "nbconvert_exporter": "python",
   "pygments_lexer": "ipython3",
   "version": "3.9.19"
  }
 },
 "nbformat": 4,
 "nbformat_minor": 2
}
