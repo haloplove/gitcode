{
 "cells": [
  {
   "cell_type": "code",
   "execution_count": 8,
   "metadata": {},
   "outputs": [],
   "source": [
    "#反向传播练习\n",
    "import torch"
   ]
  },
  {
   "cell_type": "code",
   "execution_count": 9,
   "metadata": {},
   "outputs": [],
   "source": [
    "#数据集\n",
    "x_data=[1.0,2.0,3.0]\n",
    "y_data=[2.0,4.0,6.0]\n",
    "\n",
    "w=torch.tensor([1.0])\n",
    "w.requires_grad=True#计算梯度"
   ]
  },
  {
   "cell_type": "code",
   "execution_count": 10,
   "metadata": {},
   "outputs": [],
   "source": [
    "#建立模型\n",
    "#向前传播\n",
    "def forward(x):\n",
    "    return x*w\n",
    "#损失函数\n",
    "def loss(xs,ys):\n",
    "    l_sum=0\n",
    "    for x,y in zip(xs,ys):\n",
    "        y_pred=forward(x)\n",
    "        l_sum+=(y_pred-y)**2\n",
    "    return l_sum/len(xs)\n",
    "\n",
    "\n"
   ]
  },
  {
   "cell_type": "code",
   "execution_count": 12,
   "metadata": {},
   "outputs": [
    {
     "ename": "TypeError",
     "evalue": "'float' object is not iterable",
     "output_type": "error",
     "traceback": [
      "\u001b[1;31m---------------------------------------------------------------------------\u001b[0m",
      "\u001b[1;31mTypeError\u001b[0m                                 Traceback (most recent call last)",
      "Cell \u001b[1;32mIn[12], line 7\u001b[0m\n\u001b[0;32m      5\u001b[0m \u001b[38;5;28;01mfor\u001b[39;00m x, y \u001b[38;5;129;01min\u001b[39;00m \u001b[38;5;28mzip\u001b[39m(x_data, y_data):\n\u001b[0;32m      6\u001b[0m     optimizer\u001b[38;5;241m.\u001b[39mzero_grad()  \u001b[38;5;66;03m# 清零梯度\u001b[39;00m\n\u001b[1;32m----> 7\u001b[0m     l \u001b[38;5;241m=\u001b[39m loss(x, y)\n\u001b[0;32m      8\u001b[0m     l\u001b[38;5;241m.\u001b[39mbackward()\n\u001b[0;32m      9\u001b[0m     optimizer\u001b[38;5;241m.\u001b[39mstep()\n",
      "Cell \u001b[1;32mIn[10], line 8\u001b[0m, in \u001b[0;36mloss\u001b[1;34m(xs, ys)\u001b[0m\n\u001b[0;32m      6\u001b[0m \u001b[38;5;28;01mdef\u001b[39;00m \u001b[38;5;21mloss\u001b[39m(xs,ys):\n\u001b[0;32m      7\u001b[0m     l_sum\u001b[38;5;241m=\u001b[39m\u001b[38;5;241m0\u001b[39m\n\u001b[1;32m----> 8\u001b[0m     \u001b[38;5;28;01mfor\u001b[39;00m x,y \u001b[38;5;129;01min\u001b[39;00m \u001b[38;5;28mzip\u001b[39m(xs,ys):\n\u001b[0;32m      9\u001b[0m         y_pred\u001b[38;5;241m=\u001b[39mforward(x)\n\u001b[0;32m     10\u001b[0m         l_sum\u001b[38;5;241m+\u001b[39m\u001b[38;5;241m=\u001b[39m(y_pred\u001b[38;5;241m-\u001b[39my)\u001b[38;5;241m*\u001b[39m\u001b[38;5;241m*\u001b[39m\u001b[38;5;241m2\u001b[39m\n",
      "\u001b[1;31mTypeError\u001b[0m: 'float' object is not iterable"
     ]
    }
   ],
   "source": [
    "#训练模型\n",
    "optimizer = torch.optim.SGD([w], lr=0.01)\n",
    "\n",
    "for epoch in range(100):\n",
    "    for x, y in zip(x_data, y_data):\n",
    "        optimizer.zero_grad()  # 清零梯度\n",
    "        l = loss(x, y)\n",
    "        l.backward()\n",
    "        optimizer.step()  # 更新权重"
   ]
  }
 ],
 "metadata": {
  "kernelspec": {
   "display_name": "base",
   "language": "python",
   "name": "python3"
  },
  "language_info": {
   "codemirror_mode": {
    "name": "ipython",
    "version": 3
   },
   "file_extension": ".py",
   "mimetype": "text/x-python",
   "name": "python",
   "nbconvert_exporter": "python",
   "pygments_lexer": "ipython3",
   "version": "3.11.7"
  }
 },
 "nbformat": 4,
 "nbformat_minor": 2
}
