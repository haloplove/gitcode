{
 "cells": [
  {
   "cell_type": "markdown",
   "metadata": {},
   "source": [
    "# ROUGE-n 评估\n"
   ]
  },
  {
   "cell_type": "code",
   "execution_count": 1,
   "metadata": {},
   "outputs": [
    {
     "name": "stderr",
     "output_type": "stream",
     "text": [
      "c:\\Users\\Admin\\.conda\\envs\\bloom_ft\\lib\\site-packages\\tqdm\\auto.py:21: TqdmWarning: IProgress not found. Please update jupyter and ipywidgets. See https://ipywidgets.readthedocs.io/en/stable/user_install.html\n",
      "  from .autonotebook import tqdm as notebook_tqdm\n",
      "Special tokens have been added in the vocabulary, make sure the associated word embeddings are fine-tuned or trained.\n"
     ]
    }
   ],
   "source": [
    "from transformers import AutoModelForCausalLM, AutoTokenizer\n",
    "from datasets import load_dataset\n",
    "from nltk.translate.bleu_score import corpus_bleu, SmoothingFunction, sentence_bleu\n",
    "import numpy as np\n",
    "\n",
    "# 加载预训练模型和 tokenizer\n",
    "model_name = \"C:/Users/Admin/Desktop/model/qwen/Qwen2___5-0___5B-Instruct\"\n",
    "model = AutoModelForCausalLM.from_pretrained(\n",
    "    model_name,\n",
    "    device_map=\"auto\",\n",
    "    torch_dtype=\"auto\",\n",
    ")\n",
    "tokenizer = AutoTokenizer.from_pretrained(model_name)\n",
    "# 确保 tokenizer 定义了填充标记\n",
    "tokenizer.pad_token = tokenizer.eos_token\n",
    "model.config.pad_token_id = model.config.eos_token_id\n",
    "\n",
    "# 加载评估数据集\n",
    "data_files = {\"test\": \"C:/Users/Admin/Desktop/Data/huatuo_train.json\"}\n",
    "dataset = load_dataset(\"json\", data_files=data_files, split=\"test\")"
   ]
  },
  {
   "cell_type": "code",
   "execution_count": 2,
   "metadata": {},
   "outputs": [],
   "source": [
    "# 提取对话中的问题和参考值\n",
    "def extract_conversations(dataset):\n",
    "    questions = []\n",
    "    references = []\n",
    "    for item in dataset:\n",
    "        for conversation in item[\"conversations\"]:\n",
    "            if conversation[\"from\"] == \"human\":\n",
    "                questions.append(conversation[\"value\"])\n",
    "            elif conversation[\"from\"] == \"gpt\":\n",
    "                references.append(conversation[\"value\"])\n",
    "    return questions, references\n",
    "\n",
    "\n",
    "questions, references = extract_conversations(dataset)"
   ]
  },
  {
   "cell_type": "code",
   "execution_count": null,
   "metadata": {},
   "outputs": [
    {
     "ename": "AttributeError",
     "evalue": "module 'evaluate' has no attribute 'load_metric'",
     "output_type": "error",
     "traceback": [
      "\u001b[1;31m---------------------------------------------------------------------------\u001b[0m",
      "\u001b[1;31mAttributeError\u001b[0m                            Traceback (most recent call last)",
      "Cell \u001b[1;32mIn[4], line 7\u001b[0m\n\u001b[0;32m      4\u001b[0m \u001b[38;5;28;01mimport\u001b[39;00m \u001b[38;5;21;01mjieba\u001b[39;00m\n\u001b[0;32m      6\u001b[0m \u001b[38;5;66;03m# 初始化 ROUGE 评估器\u001b[39;00m\n\u001b[1;32m----> 7\u001b[0m rouge \u001b[38;5;241m=\u001b[39m \u001b[43mevaluate\u001b[49m\u001b[38;5;241;43m.\u001b[39;49m\u001b[43mload_metric\u001b[49m(\u001b[38;5;124m\"\u001b[39m\u001b[38;5;124mrouge\u001b[39m\u001b[38;5;124m\"\u001b[39m)\n\u001b[0;32m      9\u001b[0m \u001b[38;5;66;03m# 对每个问题生成模型预测\u001b[39;00m\n\u001b[0;32m     10\u001b[0m predictions \u001b[38;5;241m=\u001b[39m []\n",
      "\u001b[1;31mAttributeError\u001b[0m: module 'evaluate' has no attribute 'load_metric'"
     ]
    }
   ],
   "source": [
    "import evaluate\n",
    "from tqdm import tqdm\n",
    "import torch\n",
    "import jieba\n",
    "\n",
    "# 初始化 ROUGE 评估器\n",
    "rouge = evaluate.load(\"rouge\")\n",
    "\n",
    "# 对每个问题生成模型预测\n",
    "predictions = []\n",
    "for question in tqdm(questions):\n",
    "    inputs = tokenizer(\n",
    "        question,\n",
    "        return_tensors=\"pt\",\n",
    "        truncation=True,\n",
    "        padding=True,\n",
    "    )\n",
    "    input_ids = inputs.input_ids.to(model.device)\n",
    "    with torch.no_grad():\n",
    "        generated_ids = model.generate(\n",
    "            input_ids,\n",
    "            max_length=512,\n",
    "            num_beams=4,\n",
    "            early_stopping=True,\n",
    "        )\n",
    "    generated_text = tokenizer.decode(\n",
    "        generated_ids[0],\n",
    "        skip_special_tokens=True,\n",
    "    )\n",
    "    predictions.append(generated_text)\n",
    "\n",
    "# 分词处理预测回答和真实回答\n",
    "tokenized_predictions = [\" \".join(jieba.cut(pred)) for pred in predictions]\n",
    "tokenized_references = [\" \".join(jieba.cut(ref)) for ref in references]\n",
    "\n",
    "\n",
    "# 计算 ROUGE-n 分数\n",
    "results = rouge.compute(\n",
    "    predictions=tokenized_predictions, references=tokenized_references\n",
    ")\n",
    "\n",
    "print(\"ROUGE 评估结果：\")\n",
    "for key in results:\n",
    "    print(f\"{key}: {results[key]:.4f}\")"
   ]
  }
 ],
 "metadata": {
  "kernelspec": {
   "display_name": "bloom_ft",
   "language": "python",
   "name": "python3"
  },
  "language_info": {
   "codemirror_mode": {
    "name": "ipython",
    "version": 3
   },
   "file_extension": ".py",
   "mimetype": "text/x-python",
   "name": "python",
   "nbconvert_exporter": "python",
   "pygments_lexer": "ipython3",
   "version": "3.9.20"
  }
 },
 "nbformat": 4,
 "nbformat_minor": 2
}
