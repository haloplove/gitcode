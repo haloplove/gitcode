{
 "cells": [
  {
   "cell_type": "markdown",
   "metadata": {},
   "source": [
    "# RAG 和 llama-index,Ollama 综合项目\n"
   ]
  },
  {
   "cell_type": "code",
   "execution_count": 1,
   "metadata": {},
   "outputs": [],
   "source": [
    "import chromadb\n",
    "from llama_index.core import (\n",
    "    VectorStoreIndex,\n",
    "    SimpleDirectoryReader,\n",
    "    get_response_synthesizer,\n",
    "    Settings,\n",
    ")\n",
    "from llama_index.llms.ollama import Ollama\n",
    "from llama_index.embeddings.ollama import OllamaEmbedding\n",
    "from llama_index.core.node_parser import SentenceSplitter\n",
    "from llama_index.vector_stores.chroma import ChromaVectorStore\n",
    "from llama_index.core import StorageContext\n",
    "from llama_index.core.retrievers import VectorIndexRetriever\n",
    "from llama_index.core.query_engine import RetrieverQueryEngine"
   ]
  },
  {
   "cell_type": "code",
   "execution_count": 2,
   "metadata": {},
   "outputs": [],
   "source": [
    "# 设置嵌入模型和语言模型\n",
    "Settings.embed_model = OllamaEmbedding(model_name=\"yxl/m3e:latest\")\n",
    "Settings.llm = Ollama(model=\"qwen2.5:0.5b\", request_timeout=360)"
   ]
  },
  {
   "cell_type": "code",
   "execution_count": 3,
   "metadata": {},
   "outputs": [],
   "source": [
    "# 初始化 Chroma 客户端，指定数据存储路径为当前目录下的 chroma_db 文件夹\n",
    "db = chromadb.PersistentClient(path=\"./chroma_db\")\n",
    "\n",
    "# 获取或创建名为 \"quickstart\" 的集合，如果该集合不存在，则创建它\n",
    "chroma_collection = db.get_or_create_collection(\"quickstart\")\n",
    "\n",
    "# 使用上述集合创建一个 ChromaVectorStore 实例，以便 llama_index 可以与 Chroma 集合进行交互\n",
    "vector_store = ChromaVectorStore(chroma_collection=chroma_collection)\n",
    "\n",
    "# 创建一个存储上下文，指定向量存储为刚刚创建的 ChromaVectorStore 实例\n",
    "storage_context = StorageContext.from_defaults(vector_store=vector_store)"
   ]
  },
  {
   "cell_type": "code",
   "execution_count": 4,
   "metadata": {},
   "outputs": [],
   "source": [
    "# 读取文档\n",
    "documents = SimpleDirectoryReader(\"C:/Users/Admin/Desktop/Data/\").load_data()\n",
    "\n",
    "# 构建索引\n",
    "index = VectorStoreIndex.from_documents(\n",
    "    documents,\n",
    "    storage_context=storage_context,\n",
    "    transformations=[SentenceSplitter(chunk_size=256)],\n",
    ")"
   ]
  },
  {
   "cell_type": "code",
   "execution_count": 5,
   "metadata": {},
   "outputs": [],
   "source": [
    "# 配置检索器\n",
    "retriever = VectorIndexRetriever(\n",
    "    index=index,\n",
    "    similarity_top_k=5,  # 返回最相似的前 n 个文档片段\n",
    ")\n",
    "\n",
    "# 配置响应合成器\n",
    "response_synthesizer = get_response_synthesizer()\n",
    "\n",
    "# 组装查询引擎\n",
    "query_engine = RetrieverQueryEngine(\n",
    "    retriever=retriever,\n",
    "    response_synthesizer=response_synthesizer,\n",
    ")"
   ]
  },
  {
   "cell_type": "code",
   "execution_count": 6,
   "metadata": {},
   "outputs": [
    {
     "name": "stdout",
     "output_type": "stream",
     "text": [
      "数字经济是指以数字技术和信息为基础的现代经济形态。它通过将物理世界的信息、过程和服务转换为数字形式来改变传统的生产方式、商业模式和消费行为，展现出其广泛应用和发展潜力。\n"
     ]
    }
   ],
   "source": [
    "# 执行查询\n",
    "response = query_engine.query(\"数字经济\")\n",
    "print(response)  # 输出查询结果"
   ]
  },
  {
   "cell_type": "code",
   "execution_count": 7,
   "metadata": {},
   "outputs": [
    {
     "data": {
      "text/plain": [
       "'数字经济，简称\"数字经济\",是以数据为关键生产要素,以互联网技术为重要载体,促进新旧动能转换和优化升级的经济形态。'"
      ]
     },
     "execution_count": 7,
     "metadata": {},
     "output_type": "execute_result"
    }
   ],
   "source": [
    "chat_engine = index.as_chat_engine()\n",
    "respon = chat_engine.chat(\"数字经济是什么\")\n",
    "respon.response.strip()"
   ]
  },
  {
   "cell_type": "code",
   "execution_count": 13,
   "metadata": {},
   "outputs": [],
   "source": [
    "def answer_question(message, history):\n",
    "\n",
    "    # 构建会话历史\n",
    "    prompt = \"结合mks文档回答问题\"\n",
    "    if history is not None:\n",
    "        for h in history:\n",
    "            prompt += f\"用户：{h[0]}\\n助手：{h[1]}\\n\"\n",
    "    prompt += f\"用户：{message}\\n助手：\"\n",
    "\n",
    "    # 使用聊天引擎生成回答\n",
    "    response = chat_engine.chat(prompt)\n",
    "\n",
    "    # 更新历史记录\n",
    "    history = history or []\n",
    "    history.append((message, response.response.strip()))\n",
    "\n",
    "    return \"\", history\n",
    "\n",
    "\n",
    "def submit_file():\n",
    "    pass"
   ]
  },
  {
   "cell_type": "code",
   "execution_count": 9,
   "metadata": {},
   "outputs": [],
   "source": [
    "import gradio as gr\n",
    "\n",
    "\n",
    "# 模拟用户验证函数\n",
    "def verify_user(username, password):\n",
    "    # 这里可以替换为实际的用户验证逻辑\n",
    "    if username == \"1\" and password == \"1\":\n",
    "        return True\n",
    "    return False\n",
    "\n",
    "\n",
    "# 登录函数\n",
    "def login(username, password):\n",
    "    if verify_user(username, password):\n",
    "        return gr.update(visible=False), gr.update(visible=True), \"登陆成功!\"\n",
    "    else:\n",
    "        return gr.update(visible=True), gr.update(visible=False), \"用户名或密码错误!\"\n",
    "\n",
    "\n",
    "# 模拟专家验证函数\n",
    "def verify_expert(username, password):\n",
    "    # 这里可以替换为实际的用户验证逻辑\n",
    "    if username == \"2\" and password == \"2\":\n",
    "        return True\n",
    "    return False\n",
    "\n",
    "\n",
    "# 专家登录函数\n",
    "def expert_login(username, password):\n",
    "    if verify_expert(username, password):\n",
    "        return gr.update(visible=False), gr.update(visible=True), \"登陆成功!\"\n",
    "    else:\n",
    "        return gr.update(visible=True), gr.update(visible=False), \"用户名或密码错误!\"\n",
    "\n",
    "\n",
    "# 退出登录函数\n",
    "def logout():\n",
    "    return gr.update(visible=True), gr.update(visible=False), \"\""
   ]
  },
  {
   "cell_type": "markdown",
   "metadata": {},
   "source": [
    "# 前端设计\n"
   ]
  },
  {
   "cell_type": "code",
   "execution_count": 14,
   "metadata": {},
   "outputs": [
    {
     "name": "stdout",
     "output_type": "stream",
     "text": [
      "Running on local URL:  http://127.0.0.1:7862\n",
      "\n",
      "To create a public link, set `share=True` in `launch()`.\n"
     ]
    },
    {
     "data": {
      "text/html": [
       "<div><iframe src=\"http://127.0.0.1:7862/\" width=\"100%\" height=\"500\" allow=\"autoplay; camera; microphone; clipboard-read; clipboard-write;\" frameborder=\"0\" allowfullscreen></iframe></div>"
      ],
      "text/plain": [
       "<IPython.core.display.HTML object>"
      ]
     },
     "metadata": {},
     "output_type": "display_data"
    },
    {
     "data": {
      "text/plain": []
     },
     "execution_count": 14,
     "metadata": {},
     "output_type": "execute_result"
    }
   ],
   "source": [
    "with gr.Blocks() as demo:\n",
    "    # 登录界面\n",
    "    with gr.Column(visible=True) as login_interface:\n",
    "        gr.Markdown(\"<h1 style='text-align: center;'>登录</h1>\")\n",
    "        username = gr.Textbox(label=\"用户名\")\n",
    "        password = gr.Textbox(label=\"密码\", type=\"password\")\n",
    "        login_button = gr.Button(\"登录\", scale=1)\n",
    "        login_message = gr.Markdown(\"\")\n",
    "        expert_login_button = gr.Button(\"专家登录\", scale=1)\n",
    "\n",
    "    # 聊天界面\n",
    "    with gr.Column(visible=False) as chat_interface:\n",
    "        gr.Markdown(\"<h1 style='text-align: center;'>AI 问答界面</h1>\")\n",
    "        with gr.Row():\n",
    "            gr.Markdown(\"\")\n",
    "            logout_button = gr.Button(\"退出登录\", elem_id=\"logout_button\")\n",
    "        chatbot = gr.Chatbot()\n",
    "        msg = gr.Textbox(show_label=False, placeholder=\"请输入您的消息...\")\n",
    "        submit = gr.Button(\"提交对话\")\n",
    "        clear = gr.Button(\"清除对话\")\n",
    "\n",
    "        msg.submit(answer_question, [msg, chatbot], [msg, chatbot])\n",
    "        submit.click(answer_question, [msg, chatbot], [msg, chatbot])\n",
    "        clear.click(lambda: None, None, chatbot, queue=False)\n",
    "        logout_button.click(\n",
    "            logout, outputs=[login_interface, chat_interface, login_message]\n",
    "        )\n",
    "    # 专家聊天界面\n",
    "    with gr.Column(visible=False) as expert_chat_interface:\n",
    "        gr.Markdown(\"<h1 style='text-align: center;'>专家引导界面</h1>\")\n",
    "        with gr.Row():\n",
    "            gr.Markdown(\"\")\n",
    "            logout_button = gr.Button(\"退出登录\", elem_id=\"logout_button\")\n",
    "        chatbot = gr.Chatbot()\n",
    "        with gr.Row():\n",
    "            with gr.Column():\n",
    "                msg = gr.Textbox(show_label=False, placeholder=\"请输入您的消息...\")\n",
    "                submit = gr.Button(\"提交对话\")\n",
    "                clear = gr.Button(\"清除对话\")\n",
    "            with gr.Column():\n",
    "                file = gr.File(label=\"上传所需文件\")\n",
    "                submit_file = gr.Button(\"提交文件\")\n",
    "                clear_file = gr.Button(\"清除文件\")\n",
    "\n",
    "        msg.submit(answer_question, [msg, chatbot], [msg, chatbot])\n",
    "        submit.click(answer_question, [msg, chatbot], [msg, chatbot])\n",
    "        clear.click(lambda: None, None, chatbot, queue=False)\n",
    "        logout_button.click(\n",
    "            logout, outputs=[login_interface, expert_chat_interface, login_message]\n",
    "        )\n",
    "\n",
    "    # 绑定登录按钮的点击事件\n",
    "    login_button.click(\n",
    "        login,\n",
    "        inputs=[username, password],\n",
    "        outputs=[login_interface, chat_interface, login_message],\n",
    "    )\n",
    "    # 绑定专家登陆事件\n",
    "    expert_login_button.click(\n",
    "        expert_login,\n",
    "        inputs=[username, password],\n",
    "        outputs=[login_interface, expert_chat_interface, login_message],\n",
    "    )\n",
    "\n",
    "demo.launch()"
   ]
  }
 ],
 "metadata": {
  "kernelspec": {
   "display_name": "fine_tune",
   "language": "python",
   "name": "python3"
  },
  "language_info": {
   "codemirror_mode": {
    "name": "ipython",
    "version": 3
   },
   "file_extension": ".py",
   "mimetype": "text/x-python",
   "name": "python",
   "nbconvert_exporter": "python",
   "pygments_lexer": "ipython3",
   "version": "3.9.20"
  }
 },
 "nbformat": 4,
 "nbformat_minor": 2
}
