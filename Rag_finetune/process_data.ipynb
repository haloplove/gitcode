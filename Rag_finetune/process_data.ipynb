{
 "cells": [
  {
   "cell_type": "markdown",
   "metadata": {},
   "source": [
    "# 处理数据集\n"
   ]
  },
  {
   "cell_type": "markdown",
   "metadata": {},
   "source": [
    "原格式\n",
    "\n",
    "```\n",
    "{\n",
    "    \"questions\": [[\"问题\"]],\n",
    "    \"answers\": [\"答案\"]\n",
    "}\n",
    "```\n"
   ]
  },
  {
   "cell_type": "markdown",
   "metadata": {},
   "source": [
    "目标格式\n",
    "sharegpt 格式\n",
    "\n",
    "```\n",
    "[\n",
    "  {\n",
    "    \"conversations\": [\n",
    "      {\n",
    "        \"from\": \"human\",\n",
    "        \"value\": \"人类指令\"\n",
    "      },\n",
    "      {\n",
    "        \"from\": \"function_call\",\n",
    "        \"value\": \"工具参数\"\n",
    "      },\n",
    "      {\n",
    "        \"from\": \"observation\",\n",
    "        \"value\": \"工具结果\"\n",
    "      },\n",
    "      {\n",
    "        \"from\": \"gpt\",\n",
    "        \"value\": \"模型回答\"\n",
    "      }\n",
    "    ],\n",
    "    \"system\": \"系统提示词（选填）\",\n",
    "    \"tools\": \"工具描述（选填）\"\n",
    "  }\n",
    "]\n",
    "```\n"
   ]
  },
  {
   "cell_type": "markdown",
   "metadata": {},
   "source": [
    "# dataset_info.json 描述\n",
    "\n",
    "```\n",
    "\"数据集名称\": {\n",
    "  \"file_name\": \"huatuo_data.json\",\n",
    "  \"formatting\": \"sharegpt\",\n",
    "  \"columns\": {\n",
    "    \"messages\": \"conversations\",\n",
    "    \"system\": \"system\",\n",
    "    \"tools\": \"tools\"\n",
    "  }\n",
    "}\n",
    "```\n"
   ]
  },
  {
   "cell_type": "code",
   "execution_count": 1,
   "metadata": {},
   "outputs": [
    {
     "name": "stdout",
     "output_type": "stream",
     "text": [
      "转换完成，结果已保存到 C:/Users/Admin/Desktop/Data/huatuo_dataset/huatuo_train.json\n"
     ]
    }
   ],
   "source": [
    "import json\n",
    "\n",
    "# 读取原始 JSONL 数据\n",
    "input_file = \"C:/Users/Admin/Desktop/Data/huatuo_dataset/downloads/64ba9b7f4aa9fb32f91b0c2648893543607d0a3f153a3b49149c59cc31963cca.jsonl\"\n",
    "output_file = \"C:/Users/Admin/Desktop/Data/huatuo_dataset/huatuo_train.json\"\n",
    "\n",
    "data = []\n",
    "with open(input_file, \"r\", encoding=\"utf-8\") as f:\n",
    "    for line in f:\n",
    "        data.append(json.loads(line))\n",
    "\n",
    "# 转换数据格式\n",
    "converted_data = []\n",
    "for item in data:\n",
    "    questions = item[\"questions\"]\n",
    "    answers = item[\"answers\"]\n",
    "    for question, answer in zip(questions, answers):\n",
    "        converted_item = {\n",
    "            \"conversations\": [\n",
    "                {\"from\": \"human\", \"value\": question},\n",
    "                {\"from\": \"function_call\", \"value\": \"工具参数\"},\n",
    "                {\"from\": \"observation\", \"value\": \"工具结果\"},\n",
    "                {\"from\": \"gpt\", \"value\": answer},\n",
    "            ],\n",
    "            \"system\": \"系统提示词（选填）\",\n",
    "            \"tools\": \"工具描述（选填）\",\n",
    "        }\n",
    "        converted_data.append(converted_item)\n",
    "\n",
    "# 写入转换后的数据到新的 JSON 文件\n",
    "with open(output_file, \"w\", encoding=\"utf-8\") as f:\n",
    "    json.dump(converted_data, f, ensure_ascii=False, indent=4)\n",
    "\n",
    "print(f\"转换完成，结果已保存到 {output_file}\")"
   ]
  }
 ],
 "metadata": {
  "kernelspec": {
   "display_name": "fine_tune",
   "language": "python",
   "name": "python3"
  },
  "language_info": {
   "codemirror_mode": {
    "name": "ipython",
    "version": 3
   },
   "file_extension": ".py",
   "mimetype": "text/x-python",
   "name": "python",
   "nbconvert_exporter": "python",
   "pygments_lexer": "ipython3",
   "version": "3.9.20"
  }
 },
 "nbformat": 4,
 "nbformat_minor": 2
}
