{
 "cells": [
  {
   "cell_type": "markdown",
   "metadata": {},
   "source": [
    "# 处理数据集\n"
   ]
  },
  {
   "cell_type": "markdown",
   "metadata": {},
   "source": [
    "原格式\n",
    "\n",
    "```\n",
    "{\n",
    "    \"questions\": [[\"问题\"]],\n",
    "    \"answers\": [\"答案\"]\n",
    "}\n",
    "```\n"
   ]
  },
  {
   "cell_type": "markdown",
   "metadata": {},
   "source": [
    "目标格式\n",
    "OpenAI 格式\n",
    "\n",
    "```\n",
    "[\n",
    "  {\n",
    "    \"conversations\": [\n",
    "      {\n",
    "        \"from\": \"human\",\n",
    "        \"value\": \"user instruction\"\n",
    "      },\n",
    "      {\n",
    "        \"from\": \"gpt\",\n",
    "        \"value\": \"model response\"\n",
    "      }\n",
    "    ],\n",
    "    \"system\": \"system prompt (optional)\",\n",
    "    \"tools\": \"tool description (optional)\"\n",
    "  }\n",
    "]\n",
    "```\n"
   ]
  },
  {
   "cell_type": "code",
   "execution_count": null,
   "metadata": {},
   "outputs": [],
   "source": [
    "import json\n",
    "\n",
    "# 读取原始 JSONL 数据\n",
    "input_file = \"C:/Users/Admin/Desktop/Data/huatuo_dataset/downloads/64ba9b7f4aa9fb32f91b0c2648893543607d0a3f153a3b49149c59cc31963cca.jsonl\"\n",
    "output_file = \"C:/Users/Admin/Desktop/Data/huatuo_dataset/output.json\"\n",
    "\n",
    "data = []\n",
    "with open(input_file, \"r\", encoding=\"utf-8\") as f:\n",
    "    for line in f:\n",
    "        data.append(json.loads(line))\n",
    "\n",
    "# 转换数据格式\n",
    "converted_data = []\n",
    "for item in data:\n",
    "    questions = item[\"questions\"]\n",
    "    answers = item[\"answers\"]\n",
    "    for question, answer in zip(questions, answers):\n",
    "        converted_item = {\n",
    "            \"conversations\": [\n",
    "                {\"from\": \"human\", \"value\": question},\n",
    "                {\"from\": \"gpt\", \"value\": answer},\n",
    "            ],\n",
    "            \"system\": \"system prompt (optional)\",\n",
    "            \"tools\": \"tool description (optional)\",\n",
    "        }\n",
    "        converted_data.append(converted_item)\n",
    "\n",
    "# 写入转换后的数据到新的 JSON 文件\n",
    "with open(output_file, \"w\", encoding=\"utf-8\") as f:\n",
    "    json.dump(converted_data, f, ensure_ascii=False, indent=4)\n",
    "\n",
    "print(f\"转换完成，结果已保存到 {output_file}\")"
   ]
  }
 ],
 "metadata": {
  "kernelspec": {
   "display_name": "fine_tune",
   "language": "python",
   "name": "python3"
  },
  "language_info": {
   "name": "python",
   "version": "3.9.20"
  }
 },
 "nbformat": 4,
 "nbformat_minor": 2
}
