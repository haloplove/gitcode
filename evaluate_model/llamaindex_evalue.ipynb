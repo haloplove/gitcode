{
 "cells": [
  {
   "cell_type": "markdown",
   "metadata": {},
   "source": [
    "# llamaindex 评估\n"
   ]
  },
  {
   "cell_type": "code",
   "execution_count": 21,
   "metadata": {},
   "outputs": [],
   "source": [
    "import chromadb\n",
    "from llama_index.core import (\n",
    "    VectorStoreIndex,\n",
    "    SimpleDirectoryReader,\n",
    "    get_response_synthesizer,\n",
    "    Settings,\n",
    ")\n",
    "from llama_index.llms.ollama import Ollama\n",
    "from llama_index.embeddings.ollama import OllamaEmbedding\n",
    "from llama_index.core.node_parser import SentenceSplitter\n",
    "from llama_index.vector_stores.chroma import ChromaVectorStore\n",
    "from llama_index.core import StorageContext\n",
    "from llama_index.core.retrievers import VectorIndexRetriever\n",
    "from llama_index.core.query_engine import RetrieverQueryEngine"
   ]
  },
  {
   "cell_type": "code",
   "execution_count": 25,
   "metadata": {},
   "outputs": [],
   "source": [
    "# 设置嵌入模型和语言模型\n",
    "Settings.embed_model = OllamaEmbedding(model_name=\"yxl/m3e:latest\")\n",
    "Settings.llm = Ollama(model=\"qwen2.5:0.5b\", request_timeout=360)\n",
    "# llm = Ollama(model=\"qwen2.5:0.5b\", request_timeout=120.0)"
   ]
  },
  {
   "cell_type": "code",
   "execution_count": 23,
   "metadata": {},
   "outputs": [],
   "source": [
    "# 初始化 Chroma 客户端，指定数据存储路径为当前目录下的 chroma_db 文件夹\n",
    "db = chromadb.PersistentClient(path=\"./chroma_db\")\n",
    "\n",
    "# 获取或创建名为 \"quickstart\" 的集合，如果该集合不存在，则创建它\n",
    "chroma_collection = db.get_or_create_collection(\"quickstart\")\n",
    "\n",
    "# 使用上述集合创建一个 ChromaVectorStore 实例，以便 llama_index 可以与 Chroma 集合进行交互\n",
    "vector_store = ChromaVectorStore(chroma_collection=chroma_collection)\n",
    "\n",
    "# 创建一个存储上下文，指定向量存储为刚刚创建的 ChromaVectorStore 实例\n",
    "storage_context = StorageContext.from_defaults(vector_store=vector_store)"
   ]
  },
  {
   "cell_type": "code",
   "execution_count": 13,
   "metadata": {},
   "outputs": [],
   "source": [
    "# LlamaParse 是异步优先的，在 Notebook 中运行同步代码需要使用 nest_asyncio\n",
    "import nest_asyncio\n",
    "\n",
    "nest_asyncio.apply()\n",
    "\n",
    "import os\n",
    "\n",
    "os.environ[\"LLAMA_CLOUD_API_KEY\"] = (\n",
    "    \"llx-YffHorRyQHp8qT3NEeZC5tHgXC6FEunNgwqozcLQhaGTGNPa\"\n",
    ")"
   ]
  },
  {
   "cell_type": "code",
   "execution_count": 16,
   "metadata": {},
   "outputs": [
    {
     "name": "stdout",
     "output_type": "stream",
     "text": [
      "Started parsing the file under job_id dd1ef8c3-e1c2-4b70-85ed-4d582c12b2ae\n",
      "."
     ]
    }
   ],
   "source": [
    "from llama_parse import LlamaParse\n",
    "\n",
    "parser = LlamaParse(\n",
    "    result_type=\"markdown\",\n",
    "    language=\"ch_sim\",\n",
    "    verbose=True,\n",
    "    num_workers=1,\n",
    ")\n",
    "\n",
    "documents = parser.load_data(\n",
    "    \"C:/Users/Admin/Desktop/Data/diabetes/国家基层糖尿病防治管理指南.pdf\"\n",
    ")"
   ]
  },
  {
   "cell_type": "code",
   "execution_count": 18,
   "metadata": {},
   "outputs": [
    {
     "name": "stdout",
     "output_type": "stream",
     "text": [
      "# 国家基层糖尿病防治管理指南（2022）\n",
      "\n",
      "# 主编 贾伟平\n",
      "\n",
      "# 中华医学会糖尿病学分会\n",
      "\n",
      "# 国家基层糖尿病防治管理办公室\n",
      "\n",
      "# 上海交通大学医学院附属第六人民医院\n",
      "\n",
      "组织编写\n",
      "\n"
     ]
    }
   ],
   "source": [
    "print(documents[0].text[:1000])\n",
    "print(documents[0].get_content()[1000:10000])"
   ]
  },
  {
   "cell_type": "code",
   "execution_count": 19,
   "metadata": {},
   "outputs": [
    {
     "name": "stdout",
     "output_type": "stream",
     "text": [
      "Index created successfully\n"
     ]
    }
   ],
   "source": [
    "# 读取文档\n",
    "# documents = SimpleDirectoryReader(\"C:/Users/Admin/Desktop/Data/diabetes/\").load_data()\n",
    "\n",
    "# 构建索引\n",
    "try:\n",
    "    index = VectorStoreIndex.from_documents(\n",
    "        documents,\n",
    "        storage_context=storage_context,\n",
    "        transformations=[SentenceSplitter(chunk_size=256)],\n",
    "    )\n",
    "    print(\"Index created successfully\")\n",
    "except Exception as e:\n",
    "    print(\"Error during index creation:\", e)"
   ]
  },
  {
   "cell_type": "code",
   "execution_count": 26,
   "metadata": {},
   "outputs": [],
   "source": [
    "# 配置检索器\n",
    "retriever = VectorIndexRetriever(\n",
    "    index=index,\n",
    "    similarity_top_k=5,  # 返回最相似的前 n 个文档片段\n",
    ")\n",
    "\n",
    "# 配置响应合成器\n",
    "response_synthesizer = get_response_synthesizer()\n",
    "\n",
    "# 组装查询引擎\n",
    "query_engine = RetrieverQueryEngine(\n",
    "    retriever=retriever,\n",
    "    response_synthesizer=response_synthesizer,\n",
    ")"
   ]
  },
  {
   "cell_type": "code",
   "execution_count": 28,
   "metadata": {},
   "outputs": [
    {
     "name": "stdout",
     "output_type": "stream",
     "text": [
      "根据表格提供的糖尿病诊断标准，\"典型糖尿病症状加上随机血糖\"和\"或加上空腹血糖\"对应高血糖状态分类下的糖代谢分类。因此，糖尿病的初步诊断依据是这些条件之一。\n"
     ]
    }
   ],
   "source": [
    "# 执行查询\n",
    "response = query_engine.query(\"糖尿病诊断\")\n",
    "print(response)  # 输出查询结果"
   ]
  },
  {
   "cell_type": "code",
   "execution_count": 31,
   "metadata": {},
   "outputs": [
    {
     "data": {
      "text/plain": [
       "'糖尿病的诊断主要基于以下几个步骤:\\n1. 糖化血红蛋白检查（HbA1c）: 这是一种反映过去2-3个月平均血糖水平的方法。正常情况下，HbA1c应低于7%。如果HbA1c超过8%，则表明患者有糖尿病。\\n2. 血糖测试：检测空腹血糖和餐后血糖（FPG），以确定是否存在高血糖。如果FPG高于6.1毫摩尔/升或空腹血糖浓度（FBG）高于7.0毫摩尔/升，那么可以诊断为糖尿病。\\n3. 非药物治疗方案的建议：包括饮食、运动和体重管理。\\n\\n请问您在进行这些步骤时遇到了什么问题？'"
      ]
     },
     "execution_count": 31,
     "metadata": {},
     "output_type": "execute_result"
    }
   ],
   "source": [
    "chat_engine = index.as_chat_engine()\n",
    "respon = chat_engine.chat(\"糖尿病如何诊断\")\n",
    "respon.response.strip()"
   ]
  },
  {
   "cell_type": "markdown",
   "metadata": {},
   "source": [
    "评估 RAG 应用需要用到几个评估实体，分别是：\n",
    "\n",
    "- Question: 指用户输入的问题，RAG 应用通过问题检索到相关的文档上下文\n",
    "- Context: 指检索到的文档上下文，RAG 应用检索到相关文档后会将这些上下\n",
    "  文结合用户问题一起提交给 LLM，最后生成答案\n",
    "- Answer: 指生成的答案，RAG 应用将问题和上下文提交给 LLM 后，LLM 会\n",
    "  根据这些信息来生成答案\n",
    "- Grouth Truth: 指人工标注的正确答案，利用这个实体可以对生成的答案进\n",
    "  行分析，从而得到评估结果，在 LlamaIndex 中，这个实体叫做 Reference Answer\n",
    "\n",
    "其中 Question 和 Ground Truth 通过用户提供，Context 通过检索得到，Answer\n",
    "是由 LLM 生成，后面我们在讲解的时候会沿用这些实体名称。在 LlamaIndex 中提供\n",
    "了生成测试数据集的功能，可以帮助我们快速生成测试数据集，无需人工干预。\n"
   ]
  },
  {
   "cell_type": "code",
   "execution_count": 29,
   "metadata": {},
   "outputs": [],
   "source": [
    "from llama_index.core.evaluation import BatchEvalRunner\n",
    "from llama_index.core.evaluation import ContextRelevancyEvaluator\n",
    "from llama_index.core.evaluation import AnswerRelevancyEvaluator\n",
    "from llama_index.core.evaluation import FaithfulnessEvaluator\n",
    "from llama_index.core.evaluation import CorrectnessEvaluator\n",
    "from llama_index.core.evaluation import PairwiseComparisonEvaluator\n",
    "from llama_index.core.evaluation import RelevancyEvaluator\n",
    "\n",
    "answer_relevancy_evaluator = AnswerRelevancyEvaluator()\n",
    "context_relevancy_evaluator = ContextRelevancyEvaluator()\n",
    "relevant_evaluator = RelevancyEvaluator()\n",
    "correctness_evaluator = CorrectnessEvaluator()\n",
    "faithfulness_evaluator = FaithfulnessEvaluator()\n",
    "pairwiseComparisonEvaluator = PairwiseComparisonEvaluator()\n",
    "\n",
    "runner = BatchEvalRunner(\n",
    "    evaluators={\n",
    "        \"answer_relevancy\": answer_relevancy_evaluator,\n",
    "        \"context_relevancy\": context_relevancy_evaluator,\n",
    "        \"relevancy\": relevant_evaluator,\n",
    "        \"correctness\": correctness_evaluator,\n",
    "        \"faithfulness\": faithfulness_evaluator,\n",
    "        \"pairwiseComparisonEvaluator\": pairwiseComparisonEvaluator,\n",
    "    },\n",
    "    workers=8,\n",
    ")"
   ]
  },
  {
   "cell_type": "code",
   "execution_count": null,
   "metadata": {},
   "outputs": [],
   "source": [
    "node_parser = SentenceSplitter()\n",
    "nodes = node_parser.get_nodes_from_documents(documents)\n",
    "vector_index = VectorStoreIndex(nodes)\n",
    "engine = vector_index.as_query_engine()\n",
    "response = engine.query(question)\n",
    "answer = str(response)"
   ]
  },
  {
   "cell_type": "code",
   "execution_count": null,
   "metadata": {},
   "outputs": [],
   "source": [
    "questions = [example.query for example in examples]\n",
    "ground_truths = [example.reference_answer for example in examples]\n",
    "metrics_results = runner.evaluate_queries(\n",
    "    engine, queries=questions, reference=ground_truths\n",
    ")\n",
    "\n",
    "for metrics in metrics_results.keys():\n",
    "    print(f\"metrics: {metrics}\")\n",
    "    eval_results = metrics_results[metrics]\n",
    "    for eval_result in eval_results:\n",
    "        print(f\"score: {eval_result.score}\")\n",
    "        print(f\"feedback: {eval_result.feedback}\")\n",
    "        if eval_result.passing is not None:\n",
    "            print(f\"passing: {eval_result.passing}\")"
   ]
  }
 ],
 "metadata": {
  "kernelspec": {
   "display_name": "fine_tune",
   "language": "python",
   "name": "python3"
  },
  "language_info": {
   "codemirror_mode": {
    "name": "ipython",
    "version": 3
   },
   "file_extension": ".py",
   "mimetype": "text/x-python",
   "name": "python",
   "nbconvert_exporter": "python",
   "pygments_lexer": "ipython3",
   "version": "3.9.20"
  }
 },
 "nbformat": 4,
 "nbformat_minor": 2
}
