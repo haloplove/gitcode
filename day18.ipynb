{
 "cells": [
  {
   "cell_type": "markdown",
   "metadata": {},
   "source": [
    "# one-hot 实践\n"
   ]
  },
  {
   "cell_type": "code",
   "execution_count": 1,
   "metadata": {},
   "outputs": [],
   "source": [
    "import numpy as np\n",
    "\n",
    "# 语料库\n",
    "corpus = [\n",
    "    \"这 是 第一个 文档\",\n",
    "    \"这 是 第二个 文档\",\n",
    "    \"这 是 最后 一个 文档\",\n",
    "    \"现在 没有 文档了\",\n",
    "]"
   ]
  },
  {
   "cell_type": "code",
   "execution_count": 2,
   "metadata": {},
   "outputs": [],
   "source": [
    "# 分词\n",
    "words = []\n",
    "\n",
    "for corpu in corpus:\n",
    "    words.extend(corpu.split())\n",
    "# 去重\n",
    "words = list(set(words))\n",
    "# 建立词典\n",
    "words_dct = {word: index for index, word in enumerate(words)}\n",
    "# 字典长度\n",
    "vocab_size = len(words_dct)"
   ]
  },
  {
   "cell_type": "markdown",
   "metadata": {},
   "source": [
    "## 1.手动实现\n"
   ]
  },
  {
   "cell_type": "code",
   "execution_count": 3,
   "metadata": {},
   "outputs": [],
   "source": [
    "def get_one_hot(index):\n",
    "    one_hot = [0 for _ in range(vocab_size)]\n",
    "    one_hot[index] = 1\n",
    "    return np.array(one_hot)"
   ]
  },
  {
   "cell_type": "code",
   "execution_count": 4,
   "metadata": {},
   "outputs": [
    {
     "data": {
      "text/plain": [
       "array([[0, 0, 0, 0, 0, 0, 0, 0, 1, 0],\n",
       "       [0, 1, 0, 0, 0, 0, 0, 0, 0, 0],\n",
       "       [0, 0, 0, 0, 1, 0, 0, 0, 0, 0],\n",
       "       [1, 0, 0, 0, 0, 0, 0, 0, 0, 0]])"
      ]
     },
     "execution_count": 4,
     "metadata": {},
     "output_type": "execute_result"
    }
   ],
   "source": [
    "indexs = [words_dct[word] for word in corpus[0].split()]\n",
    "\n",
    "one_hot_np = np.array([get_one_hot(index) for index in indexs])\n",
    "\n",
    "one_hot_np"
   ]
  },
  {
   "cell_type": "markdown",
   "metadata": {},
   "source": [
    "## 2.sklearn 实现\n"
   ]
  },
  {
   "cell_type": "code",
   "execution_count": 5,
   "metadata": {},
   "outputs": [
    {
     "data": {
      "text/plain": [
       "array(['一个', '文档', '文档了', '是', '最后', '没有', '现在', '第一个', '第二个', '这'],\n",
       "      dtype='<U3')"
      ]
     },
     "execution_count": 5,
     "metadata": {},
     "output_type": "execute_result"
    }
   ],
   "source": [
    "from sklearn.preprocessing import LabelBinarizer\n",
    "\n",
    "# 初始化编码器\n",
    "lb = LabelBinarizer()\n",
    "lb.fit(words)\n",
    "\n",
    "lb.classes_"
   ]
  },
  {
   "cell_type": "code",
   "execution_count": 6,
   "metadata": {},
   "outputs": [
    {
     "name": "stdout",
     "output_type": "stream",
     "text": [
      "[[0 0 0 0 0 0 0 0 0 1]\n",
      " [0 0 0 1 0 0 0 0 0 0]\n",
      " [0 0 0 0 0 0 0 1 0 0]\n",
      " [0 1 0 0 0 0 0 0 0 0]]\n",
      "['这' '是' '第一个' '文档']\n"
     ]
    }
   ],
   "source": [
    "sentence = corpus[0].split()\n",
    "# 词转换\n",
    "sk_one_hot = lb.transform(sentence)\n",
    "print(sk_one_hot)\n",
    "\n",
    "# 反向转换\n",
    "sk_iv = lb.inverse_transform(sk_one_hot)\n",
    "print(sk_iv)"
   ]
  }
 ],
 "metadata": {
  "kernelspec": {
   "display_name": "pra_torch",
   "language": "python",
   "name": "python3"
  },
  "language_info": {
   "codemirror_mode": {
    "name": "ipython",
    "version": 3
   },
   "file_extension": ".py",
   "mimetype": "text/x-python",
   "name": "python",
   "nbconvert_exporter": "python",
   "pygments_lexer": "ipython3",
   "version": "3.9.19"
  }
 },
 "nbformat": 4,
 "nbformat_minor": 2
}
