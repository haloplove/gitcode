{
 "cells": [
  {
   "cell_type": "markdown",
   "metadata": {},
   "source": [
    "# 界面设计\n"
   ]
  },
  {
   "cell_type": "code",
   "execution_count": 1,
   "metadata": {},
   "outputs": [],
   "source": [
    "import gradio as gr\n",
    "import requests\n",
    "\n",
    "\n",
    "def answer_question(message, history):\n",
    "    url = \"http://localhost:11434/api/generate\"\n",
    "    # 构建会话历史\n",
    "    prompt = \"你是个叫小明的小学生\"\n",
    "    if history is not None:\n",
    "        for h in history:\n",
    "            prompt += f\"用户：{h[0]}\\n助手：{h[1]}\\n\"\n",
    "    prompt += f\"用户：{message}\\n助手：\"\n",
    "\n",
    "    payload = {\n",
    "        \"model\": \"qwen2.5:0.5b\",  # 请替换为您的模型名称\n",
    "        \"prompt\": prompt,\n",
    "        \"stream\": False,\n",
    "    }\n",
    "    response = requests.post(url, json=payload)\n",
    "    if response.status_code == 200:\n",
    "        data = response.json()\n",
    "        output = data.get(\"response\", \"\")\n",
    "        history = history or []\n",
    "        history.append((message, output.strip()))\n",
    "        return \"\", history\n",
    "    else:\n",
    "        history = history or []\n",
    "        history.append((message, \"错误：无法从 Ollama 获取响应\"))\n",
    "        return \"\", history\n",
    "\n",
    "\n",
    "def submit_file():\n",
    "    pass"
   ]
  },
  {
   "cell_type": "code",
   "execution_count": 13,
   "metadata": {},
   "outputs": [
    {
     "name": "stdout",
     "output_type": "stream",
     "text": [
      "Running on local URL:  http://127.0.0.1:7871\n",
      "\n",
      "To create a public link, set `share=True` in `launch()`.\n"
     ]
    },
    {
     "data": {
      "text/html": [
       "<div><iframe src=\"http://127.0.0.1:7871/\" width=\"100%\" height=\"500\" allow=\"autoplay; camera; microphone; clipboard-read; clipboard-write;\" frameborder=\"0\" allowfullscreen></iframe></div>"
      ],
      "text/plain": [
       "<IPython.core.display.HTML object>"
      ]
     },
     "metadata": {},
     "output_type": "display_data"
    },
    {
     "data": {
      "text/plain": []
     },
     "execution_count": 14,
     "metadata": {},
     "output_type": "execute_result"
    }
   ],
   "source": [
    "# 模拟用户验证函数\n",
    "from numpy import source\n",
    "\n",
    "\n",
    "def verify_user(username, password):\n",
    "    # 这里可以替换为实际的用户验证逻辑\n",
    "    if username == \"1\" and password == \"1\":\n",
    "        return True\n",
    "    return False\n",
    "\n",
    "\n",
    "# 登录函数\n",
    "def login(username, password):\n",
    "    if verify_user(username, password):\n",
    "        return gr.update(visible=False), gr.update(visible=True), \"登陆成功!\"\n",
    "    else:\n",
    "        return gr.update(visible=True), gr.update(visible=False), \"用户名或密码错误!\"\n",
    "\n",
    "\n",
    "# 模拟专家验证函数\n",
    "def verify_expert(username, password):\n",
    "    # 这里可以替换为实际的用户验证逻辑\n",
    "    if username == \"2\" and password == \"2\":\n",
    "        return True\n",
    "    return False\n",
    "\n",
    "\n",
    "# 专家登录函数\n",
    "def expert_login(username, password):\n",
    "    if verify_expert(username, password):\n",
    "        return gr.update(visible=False), gr.update(visible=True), \"登陆成功!\"\n",
    "    else:\n",
    "        return gr.update(visible=True), gr.update(visible=False), \"用户名或密码错误!\"\n",
    "\n",
    "\n",
    "# 退出登录函数\n",
    "def logout():\n",
    "    return gr.update(visible=True), gr.update(visible=False), \"\"\n",
    "\n",
    "\n",
    "with gr.Blocks() as demo:\n",
    "    # 登录界面\n",
    "    with gr.Column(visible=True) as login_interface:\n",
    "        gr.Markdown(\"<h1 style='text-align: center;'>登录</h1>\")\n",
    "        username = gr.Textbox(label=\"用户名\")\n",
    "        password = gr.Textbox(label=\"密码\", type=\"password\")\n",
    "        login_button = gr.Button(\"登录\", scale=1)\n",
    "        login_message = gr.Markdown(\"\")\n",
    "        expert_login_button = gr.Button(\"专家登录\", scale=1)\n",
    "\n",
    "    # 聊天界面\n",
    "    with gr.Column(visible=False) as chat_interface:\n",
    "        gr.Markdown(\"<h1 style='text-align: center;'>AI 问答界面</h1>\")\n",
    "        with gr.Row():\n",
    "            gr.Markdown(\"\")\n",
    "            logout_button = gr.Button(\"退出登录\", elem_id=\"logout_button\")\n",
    "        chatbot = gr.Chatbot()\n",
    "        msg = gr.Textbox(show_label=False, placeholder=\"请输入您的消息...\")\n",
    "        submit = gr.Button(\"提交对话\")\n",
    "        clear = gr.Button(\"清除对话\")\n",
    "\n",
    "        msg.submit(answer_question, [msg, chatbot], [msg, chatbot])\n",
    "        submit.click(answer_question, [msg, chatbot], [msg, chatbot])\n",
    "        clear.click(lambda: None, None, chatbot, queue=False)\n",
    "        logout_button.click(\n",
    "            logout, outputs=[login_interface, chat_interface, login_message]\n",
    "        )\n",
    "    # 专家聊天界面\n",
    "    with gr.Column(visible=False) as expert_chat_interface:\n",
    "        gr.Markdown(\"<h1 style='text-align: center;'>专家引导界面</h1>\")\n",
    "        with gr.Row():\n",
    "            gr.Markdown(\"\")\n",
    "            logout_button = gr.Button(\"退出登录\", elem_id=\"logout_button\")\n",
    "        chatbot = gr.Chatbot()\n",
    "        with gr.Row():\n",
    "            with gr.Column():\n",
    "                msg = gr.Textbox(show_label=False, placeholder=\"请输入您的消息...\")\n",
    "                submit = gr.Button(\"提交对话\")\n",
    "                clear = gr.Button(\"清除对话\")\n",
    "            with gr.Column():\n",
    "                file = gr.File(label=\"上传所需文件\")\n",
    "                submit_file = gr.Button(\"提交文件\")\n",
    "                clear_file = gr.Button(\"清除文件\")\n",
    "\n",
    "        msg.submit(answer_question, [msg, chatbot], [msg, chatbot])\n",
    "        submit.click(answer_question, [msg, chatbot], [msg, chatbot])\n",
    "        clear.click(lambda: None, None, chatbot, queue=False)\n",
    "        logout_button.click(\n",
    "            logout, outputs=[login_interface, expert_chat_interface, login_message]\n",
    "        )\n",
    "\n",
    "    # 绑定登录按钮的点击事件\n",
    "    login_button.click(\n",
    "        login,\n",
    "        inputs=[username, password],\n",
    "        outputs=[login_interface, chat_interface, login_message],\n",
    "    )\n",
    "    # 绑定专家登陆事件\n",
    "    expert_login_button.click(\n",
    "        expert_login,\n",
    "        inputs=[username, password],\n",
    "        outputs=[login_interface, expert_chat_interface, login_message],\n",
    "    )\n",
    "\n",
    "demo.launch()"
   ]
  }
 ],
 "metadata": {
  "kernelspec": {
   "display_name": "fine_tune",
   "language": "python",
   "name": "python3"
  },
  "language_info": {
   "codemirror_mode": {
    "name": "ipython",
    "version": 3
   },
   "file_extension": ".py",
   "mimetype": "text/x-python",
   "name": "python",
   "nbconvert_exporter": "python",
   "pygments_lexer": "ipython3",
   "version": "3.9.20"
  }
 },
 "nbformat": 4,
 "nbformat_minor": 2
}
